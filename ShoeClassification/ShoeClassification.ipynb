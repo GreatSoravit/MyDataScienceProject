{
 "cells": [
  {
   "cell_type": "markdown",
   "id": "e2feea3a",
   "metadata": {},
   "source": [
    "## Shoes Classification with Transfer Learning "
   ]
  },
  {
   "cell_type": "code",
   "execution_count": 198,
   "id": "4ca31288",
   "metadata": {},
   "outputs": [],
   "source": [
    "import os, cv2\n",
    "import torch\n",
    "import torch.nn as nn\n",
    "import pandas as pd\n",
    "import numpy as np\n",
    "\n",
    "from PIL import Image\n",
    "from torchvision import datasets, transforms, utils, models\n",
    "from sklearn.model_selection import train_test_split\n",
    "from torch.utils.data import Dataset, DataLoader\n",
    "from sklearn.metrics import accuracy_score, f1_score, classification_report, confusion_matrix\n",
    "\n",
    "import matplotlib.pyplot as plt\n",
    "import matplotlib.image as mpimg\n",
    "import seaborn as sns\n",
    "\n",
    "SEED = 7"
   ]
  },
  {
   "cell_type": "code",
   "execution_count": 199,
   "id": "122f9407",
   "metadata": {},
   "outputs": [],
   "source": [
    "def get_classes(root):\n",
    "    assert os.path.exists(root), 'No path or file found'\n",
    "    # get number of classes from the folder name and put as dict\n",
    "    classes = [c for c in os.listdir(root) if os.path.isdir(os.path.join(root, c))]\n",
    "    classes.sort()\n",
    "    class_dict = {val: num for num, val in enumerate(classes)}\n",
    "    print(\"Total classes found in dataset:\", len(classes))\n",
    "    return classes, class_dict\n",
    "\n",
    "def get_image(root, classes, type):\n",
    "    image_type = type\n",
    "\n",
    "    file_paths = []\n",
    "    file_labels = []\n",
    "    file_errors = []\n",
    "    \n",
    "    for c in classes:\n",
    "        path_all_classes = os.path.join(root, c)\n",
    "        # list all files and creat path to file that contain input file type\n",
    "        for file in os.listdir(path_all_classes):\n",
    "            if os.path.splitext(file)[1] in image_type:\n",
    "                file_paths.append(os.path.join(path_all_classes, file))\n",
    "                file_labels.append(c)\n",
    "            else:\n",
    "                file_errors.append(os.path.join(path_all_classes, file))\n",
    "        \n",
    "    df_store = pd.DataFrame( list(zip(file_paths,file_labels)), columns=['Filepaths','Labels'])\n",
    "    class_len = np.array(df_store.groupby('Labels').count().values).reshape(-1)\n",
    "\n",
    "    print(\"Total images found in dataset:\", np.sum(class_len))\n",
    "    print(\"Total error files type found:\", np.sum(file_errors).astype(int))\n",
    "    \n",
    "    return df_store, file_errors\n",
    "\n",
    "# Not using this function as datasets provide separate folders of Train, Valid, Test set\n",
    "def split_train_data(df, size, stratify):\n",
    "    \n",
    "    if stratify:\n",
    "        # set stratify to set every classes with same distribution\n",
    "        df_train, df_test = train_test_split(df, train_size=size, random_state=SEED, shuffle=True, stratify=df['Labels'])\n",
    "    else:\n",
    "        df_train, df_test = train_test_split(df, train_size=size, random_state=SEED, shuffle=True)\n",
    "\n",
    "    print(\"Train data: %d\" %(len(df_train)), \"Test data: %d\" %(len(df_test)))\n",
    "    return df_train, df_test"
   ]
  },
  {
   "cell_type": "markdown",
   "id": "37842da1",
   "metadata": {},
   "source": [
    "### Load Train, Test, Valid classes from root"
   ]
  },
  {
   "cell_type": "code",
   "execution_count": 200,
   "id": "8c16bb11",
   "metadata": {},
   "outputs": [
    {
     "name": "stdout",
     "output_type": "stream",
     "text": [
      "Total classes found in dataset: 5\n",
      "Total images found in dataset: 10000\n",
      "Total error files type found: 0\n"
     ]
    }
   ],
   "source": [
    "root = 'Shoes Dataset/Train/'\n",
    "image_types = ['.jpg', '.png', '.jpeg', '.PNG', '.JPG', '.JPEG']\n",
    "\n",
    "classes, class_dict_train = get_classes(root)\n",
    "df_fapth, ferror = get_image(root, classes, image_types)\n",
    "#df_traindata, df_testdata = split_train_data(df_fapth, 0.8, stratify=True)"
   ]
  },
  {
   "cell_type": "code",
   "execution_count": 201,
   "id": "5de994a1",
   "metadata": {},
   "outputs": [
    {
     "name": "stdout",
     "output_type": "stream",
     "text": [
      "Total classes found in dataset: 5\n",
      "Total images found in dataset: 2500\n",
      "Total error files type found: 0\n"
     ]
    }
   ],
   "source": [
    "root_val = 'Shoes Dataset/Valid/'\n",
    "\n",
    "classes_val, class_dict_val = get_classes(root_val)\n",
    "df_fapth_val, ferror_val = get_image(root_val, classes_val, image_types)"
   ]
  },
  {
   "cell_type": "code",
   "execution_count": 202,
   "id": "fcd39521",
   "metadata": {},
   "outputs": [
    {
     "name": "stdout",
     "output_type": "stream",
     "text": [
      "Total classes found in dataset: 5\n",
      "Total images found in dataset: 1215\n",
      "Total error files type found: 0\n"
     ]
    }
   ],
   "source": [
    "root_test = 'Shoes Dataset/Test/'\n",
    "\n",
    "classes_test, class_dict_test = get_classes(root_test)\n",
    "df_fapth_test, ferror_test = get_image(root_test, classes_test, image_types)"
   ]
  },
  {
   "cell_type": "markdown",
   "id": "5df4381c",
   "metadata": {},
   "source": [
    "### Check classes distribution of train data"
   ]
  },
  {
   "cell_type": "code",
   "execution_count": 203,
   "id": "3d69393b",
   "metadata": {},
   "outputs": [
    {
     "data": {
      "image/png": "[encoded data removed]",
      "text/plain": [
       "<Figure size 500x300 with 1 Axes>"
      ]
     },
     "metadata": {},
     "output_type": "display_data"
    }
   ],
   "source": [
    "total_train_class = df_fapth.groupby('Labels').count().values.reshape(-1)\n",
    "\n",
    "plt.subplots(figsize=((5,3)))\n",
    "plt.bar(range(len(classes)), total_train_class, align='center')\n",
    "plt.xticks(range(len(classes)), df_fapth.groupby('Labels').count().index)\n",
    "\n",
    "for i, v in enumerate(total_train_class):\n",
    "     plt.text(x=i, y=v + 5, s=str(v), ha='center')\n",
    "\n",
    "plt.xlabel('Image classes')\n",
    "plt.ylabel('Number of images')\n",
    "\n",
    "plt.title('Train data class distribution')\n",
    "plt.show()"
   ]
  },
  {
   "cell_type": "markdown",
   "id": "f1cd1623",
   "metadata": {},
   "source": [
    "### Custom Dataset class for dataloader"
   ]
  },
  {
   "cell_type": "code",
   "execution_count": 204,
   "id": "d08a3e89",
   "metadata": {},
   "outputs": [],
   "source": [
    "# Custom data loader for dataset which stored images and labels\n",
    "class CDataset(Dataset):\n",
    "    \n",
    "    def __init__(self, image_path, image_labels, transform=None):\n",
    "        \n",
    "        super().__init__()\n",
    "        self.image_path = image_path\n",
    "        self.image_class = image_labels\n",
    "        self.transform = transform\n",
    "\n",
    "    def __len__(self):\n",
    "        return len(self.image_path)\n",
    "    \n",
    "    def __getitem__(self, idx):\n",
    "        \n",
    "        #if torch.is_tensor(idx):\n",
    "            #idx = idx.tolist()\n",
    "            \n",
    "        image = Image.open(self.image_path[idx]).convert('RGB')\n",
    "        label = self.image_class[idx]\n",
    "        \n",
    "        if self.transform is not None:\n",
    "            image = self.transform(image)\n",
    "\n",
    "        return image, label\n",
    "    \n",
    "    @staticmethod\n",
    "    def collate_fn(batch):\n",
    "        images, labels = tuple(zip(*batch))\n",
    "        images = torch.stack(images, dim=0)\n",
    "        labels = torch.as_tensor(labels)\n",
    "        return images, labels"
   ]
  },
  {
   "cell_type": "code",
   "execution_count": 205,
   "id": "eef4b993",
   "metadata": {},
   "outputs": [],
   "source": [
    "# Split train,valid,test dataframe columns to path and label\n",
    "\n",
    "train_img_path = df_fapth['Filepaths'].tolist()\n",
    "train_img_label = [class_dict_train[i] for i in df_fapth['Labels'].tolist()]\n",
    "\n",
    "valid_img_path = df_fapth_val['Filepaths'].tolist()\n",
    "valid_img_label = [class_dict_val[i] for i in df_fapth_val['Labels'].tolist()]\n",
    "\n",
    "test_img_path = df_fapth_test['Filepaths'].tolist()\n",
    "test_img_label = [class_dict_test[i] for i in df_fapth_test['Labels'].tolist()]"
   ]
  },
  {
   "cell_type": "code",
   "execution_count": 206,
   "id": "a10ea10e",
   "metadata": {},
   "outputs": [],
   "source": [
    "# Using the mean and std of Imagenet in normalize, including img size. They are calculated based on millions of images.\n",
    "data_transform = {\n",
    "    'train': transforms.Compose([transforms.RandomResizedCrop(224), \n",
    "                                 transforms.ToTensor(), \n",
    "                                 transforms.RandomHorizontalFlip(), \n",
    "                                 transforms.Normalize([0.485, 0.456, 0.406], [0.229, 0.224, 0.225])]),\n",
    "    \n",
    "    'valid': transforms.Compose([transforms.Resize((224, 224)), \n",
    "                                 transforms.CenterCrop(200), \n",
    "                                 transforms.ToTensor(), \n",
    "                                 transforms.Normalize([0.485, 0.456, 0.406], [0.229, 0.224, 0.225])]),\n",
    "    \n",
    "    'test': transforms.Compose([transforms.Resize((224, 224)), \n",
    "                                 transforms.CenterCrop(200), \n",
    "                                 transforms.ToTensor(), \n",
    "                                 transforms.Normalize([0.485, 0.456, 0.406], [0.229, 0.224, 0.225])])\n",
    "}\n",
    "\n",
    "batch_size = 32\n",
    "\n",
    "train_dataset = CDataset(train_img_path, train_img_label, transform=data_transform['train'])\n",
    "trainloader = DataLoader(train_dataset, shuffle=True, batch_size=batch_size, num_workers=0, collate_fn=train_dataset.collate_fn)\n",
    "\n",
    "valid_dataset = CDataset(valid_img_path, valid_img_label, transform=data_transform['valid'])\n",
    "validloader = DataLoader(valid_dataset, shuffle=False, batch_size=batch_size, num_workers=0, collate_fn=valid_dataset.collate_fn)\n",
    "\n",
    "test_dataset = CDataset(test_img_path, test_img_label, transform=data_transform['test'])\n",
    "testloader = DataLoader(test_dataset, shuffle=False, batch_size=batch_size, num_workers=0, collate_fn=test_dataset.collate_fn)"
   ]
  },
  {
   "cell_type": "markdown",
   "id": "85ff658a",
   "metadata": {},
   "source": [
    "### Select transfer learning by choosing efficientnet b1 model for shoes classification"
   ]
  },
  {
   "cell_type": "code",
   "execution_count": 207,
   "id": "7c8401cc",
   "metadata": {},
   "outputs": [
    {
     "name": "stderr",
     "output_type": "stream",
     "text": [
      "C:\\Users\\Lenovo\\anaconda3\\lib\\site-packages\\torchvision\\models\\_utils.py:208: UserWarning: The parameter 'pretrained' is deprecated since 0.13 and may be removed in the future, please use 'weights' instead.\n",
      "  warnings.warn(\n",
      "C:\\Users\\Lenovo\\anaconda3\\lib\\site-packages\\torchvision\\models\\_utils.py:223: UserWarning: Arguments other than a weight enum or `None` for 'weights' are deprecated since 0.13 and may be removed in the future. The current behavior is equivalent to passing `weights=EfficientNet_B1_Weights.IMAGENET1K_V1`. You can also use `weights=EfficientNet_B1_Weights.DEFAULT` to get the most up-to-date weights.\n",
      "  warnings.warn(msg)\n"
     ]
    }
   ],
   "source": [
    "model_transfer = models.efficientnet_b1(pretrained=True)"
   ]
  },
  {
   "cell_type": "code",
   "execution_count": 208,
   "id": "7c9dae38",
   "metadata": {},
   "outputs": [],
   "source": [
    "device = torch.device('cuda'if torch.cuda.is_available() else 'cpu')\n",
    "\n",
    "model_transfer = model_transfer.to(device)\n",
    "\n",
    "# selecting loss function\n",
    "criterion_transfer = nn.CrossEntropyLoss()\n",
    "\n",
    "#using Adam classifier\n",
    "optimizer_transfer = optim.Adam(model_transfer.parameters(), lr=0.0003, weight_decay=0.0002)"
   ]
  },
  {
   "cell_type": "code",
   "execution_count": 209,
   "id": "5fd0f7df",
   "metadata": {},
   "outputs": [],
   "source": [
    "def train(n_epochs, train_loader, valid_loader, model, optimizer, criterion, device, save_path):\n",
    "    trainingloss = []\n",
    "    validationloss = []\n",
    "    valid_loss_min = np.Inf \n",
    "\n",
    "    for epoch in range(n_epochs):\n",
    "        #train_loss = 0\n",
    "        #valid_loss = 0\n",
    "        \n",
    "        best_valid_acc = 0\n",
    "        train_acc = 0\n",
    "        valid_acc = 0\n",
    "        running_loss = 0 \n",
    "        \n",
    "        model.train()\n",
    "        for batch_idx, (data) in enumerate(train_loader):\n",
    "            # move to GPU\n",
    "            images, labels = data\n",
    "            images, labels = images.to(device), labels.to(device)\n",
    "\n",
    "            optimizer.zero_grad()\n",
    "            outputs = model(images)\n",
    "            loss = criterion(outputs, labels)\n",
    "            \n",
    "            running_loss += loss.item() #* inputs.size(0)\n",
    "            #train_loss = train_loss + ((1 / (batch_idx + 1)) * (loss.data - train_loss))\n",
    "            \n",
    "            loss.backward()\n",
    "            optimizer.step()\n",
    "            \n",
    "            # calculate train accuracy\n",
    "            train_acc += (torch.argmax(outputs, dim=1) == labels).sum().item() \n",
    "\n",
    "        # validating the model #\n",
    "        model.eval()\n",
    "        with torch.no_grad():\n",
    "            \n",
    "            for batch_idx, (data) in enumerate(valid_loader):\n",
    "                images, labels = data\n",
    "                images, labels = images.to(device), labels.to(device)\n",
    "\n",
    "                outputs = model(images)\n",
    "                loss = criterion(outputs, labels)\n",
    "                #valid_loss = valid_loss + ((1 / (batch_idx + 1)) * (loss.data - valid_loss))\n",
    "                # calculate valid accuracy\n",
    "                valid_acc += (torch.argmax(outputs, dim=1) == labels).sum().item()\n",
    "\n",
    "        train_acc = train_acc/len(train_dataset)\n",
    "        valid_acc = valid_acc/len(valid_dataset)\n",
    "\n",
    "        #trainingloss.append(train_loss)\n",
    "        #validationloss.append(valid_loss)\n",
    "\n",
    "        print(f'epoch [{epoch+1}/{n_epochs}] train_accuracy: {train_acc:.3f} validation_accuracy: {valid_acc:.3f} running_loss: {running_loss:.3f}')\n",
    "\n",
    "        ## saving the model if valid accuracy has decreased\n",
    "        if valid_acc > best_valid_acc:\n",
    "            best_valid_acc = valid_acc\n",
    "            torch.save(model.state_dict(), save_path)\n",
    "            \n",
    "    return model, trainingloss, validationloss"
   ]
  },
  {
   "cell_type": "code",
   "execution_count": 210,
   "id": "390c128d",
   "metadata": {},
   "outputs": [
    {
     "name": "stdout",
     "output_type": "stream",
     "text": [
      "epoch [1/10] train_accuracy: 0.669 validation_accuracy: 0.828 running_loss: 366.956\n",
      "epoch [2/10] train_accuracy: 0.797 validation_accuracy: 0.832 running_loss: 180.988\n",
      "epoch [3/10] train_accuracy: 0.819 validation_accuracy: 0.861 running_loss: 160.338\n",
      "epoch [4/10] train_accuracy: 0.843 validation_accuracy: 0.873 running_loss: 142.568\n",
      "epoch [5/10] train_accuracy: 0.853 validation_accuracy: 0.876 running_loss: 129.533\n",
      "epoch [6/10] train_accuracy: 0.861 validation_accuracy: 0.877 running_loss: 119.764\n",
      "epoch [7/10] train_accuracy: 0.869 validation_accuracy: 0.886 running_loss: 114.381\n",
      "epoch [8/10] train_accuracy: 0.870 validation_accuracy: 0.872 running_loss: 111.229\n",
      "epoch [9/10] train_accuracy: 0.880 validation_accuracy: 0.884 running_loss: 104.573\n",
      "epoch [10/10] train_accuracy: 0.885 validation_accuracy: 0.874 running_loss: 101.882\n"
     ]
    }
   ],
   "source": [
    "save_path = './EfficientNetB1.pth'\n",
    "epochs = 10\n",
    "\n",
    "model_transfer, train_loss, valid_loss = train(epochs, trainloader, validloader, model_transfer, optimizer_transfer, criterion_transfer, device, save_path)"
   ]
  },
  {
   "cell_type": "code",
   "execution_count": 211,
   "id": "b8c34c6f",
   "metadata": {},
   "outputs": [],
   "source": [
    "def prediction(model, test_loader,criterion, classes):\n",
    "    \n",
    "    class_correct = list(0. for i in range(len(classes)))\n",
    "    class_total = list(0. for i in range(len(classes)))\n",
    "    error = 0\n",
    "    test_loss = 0\n",
    "    y_pred = []\n",
    "    y_true = []\n",
    "    \n",
    "    \n",
    "    model.eval()\n",
    "    with torch.no_grad():\n",
    "        for data in test_loader:\n",
    "            images, labels = data\n",
    "            images, labels = images.to(device), labels.to(device)\n",
    "            \n",
    "            output = model(images)\n",
    "            loss = criterion(output, labels)\n",
    "            test_loss += loss.item() * images.size(0)\n",
    "            \n",
    "            prediction = output.data.max(1, keepdim=True)[1]\n",
    "            \n",
    "            # store y_pred and y_true to calculate metric score\n",
    "            for i in range(len(prediction)):\n",
    "                y_pred.append(prediction[i].cpu().numpy())\n",
    "                y_true.append(labels[i].cpu().numpy())\n",
    "            \n",
    "            # compare prediction and true labels\n",
    "            correct_tensor = prediction.eq(labels.data.view_as(prediction))\n",
    "            correct = np.squeeze(correct_tensor.cpu().numpy())    \n",
    "            \n",
    "            # count correct prediction for each classes to calculate accuracy \n",
    "            for i in range(len(correct)):\n",
    "                label = labels.data[i]\n",
    "                class_correct[label] += correct[i].item()\n",
    "                class_total[label] += 1\n",
    "        \n",
    "        # average test loss\n",
    "        test_loss = test_loss/len(test_loader.dataset)\n",
    "        print('Test Loss: {:.3f}\\n'.format(test_loss))\n",
    "        \n",
    "        for i in range(len(classes)):\n",
    "            if class_total[i] > 0:\n",
    "                print('Test Accuracy of %10s: %2d%% (%2d/%2d)' % (\n",
    "                classes[i], 100 * class_correct[i] / class_total[i],\n",
    "                np.sum(class_correct[i]), np.sum(class_total[i])))\n",
    "            else:\n",
    "                print('Test Accuracy of %10s: N/A (no training examples)' % (classes[i]))\n",
    "        \n",
    "        accuracy = 100. * np.sum(class_correct) / np.sum(class_total)\n",
    "        print('\\nTest Accuracy (Overall): %2d%% (%2d/%2d)' % (\n",
    "            accuracy, np.sum(class_correct), np.sum(class_total)))\n",
    "        \n",
    "    return np.array(y_true), np.array(y_pred).reshape(-1)        "
   ]
  },
  {
   "cell_type": "code",
   "execution_count": 212,
   "id": "692217db",
   "metadata": {},
   "outputs": [
    {
     "name": "stdout",
     "output_type": "stream",
     "text": [
      "Test Loss: 0.528\n",
      "\n",
      "Test Accuracy of Ballet Flat: 81% (79/97)\n",
      "Test Accuracy of       Boat: 73% (173/236)\n",
      "Test Accuracy of     Brogue: 96% (185/192)\n",
      "Test Accuracy of       Clog: 85% (363/424)\n",
      "Test Accuracy of    Sneaker: 90% (241/266)\n",
      "\n",
      "Test Accuracy (Overall): 85% (1041/1215)\n"
     ]
    }
   ],
   "source": [
    "# load model and run prediction on valid dataset which return array of prediction and true labels to use in report and analyze\n",
    "model_transfer.load_state_dict(torch.load(save_path))\n",
    "\n",
    "ytrue, ypred = prediction(model_transfer, testloader, criterion_transfer, classes_test)"
   ]
  },
  {
   "cell_type": "markdown",
   "id": "ccb17a2d",
   "metadata": {},
   "source": [
    "## The model use test data that does not feed into training process which appear the overall accuracy is 85% "
   ]
  },
  {
   "cell_type": "code",
   "execution_count": 213,
   "id": "336822bf",
   "metadata": {},
   "outputs": [
    {
     "name": "stdout",
     "output_type": "stream",
     "text": [
      "Classification Report:\n",
      "\n",
      "               precision    recall  f1-score   support\n",
      "\n",
      " Ballet Flat      0.745     0.814     0.778        97\n",
      "        Boat      0.840     0.733     0.783       236\n",
      "      Brogue      0.815     0.964     0.883       192\n",
      "        Clog      0.948     0.856     0.900       424\n",
      "     Sneaker      0.823     0.906     0.862       266\n",
      "\n",
      "    accuracy                          0.857      1215\n",
      "   macro avg      0.834     0.855     0.841      1215\n",
      "weighted avg      0.862     0.857     0.856      1215\n",
      "\n"
     ]
    }
   ],
   "source": [
    "clr = classification_report(ytrue, ypred, target_names=classes_test, digits=3)\n",
    "print(\"Classification Report:\\n\\n\", clr)"
   ]
  },
  {
   "cell_type": "code",
   "execution_count": 214,
   "id": "ab3294f4",
   "metadata": {},
   "outputs": [
    {
     "data": {
      "text/plain": [
       "Text(0.5, 1.0, 'Confusion Matrix')"
      ]
     },
     "execution_count": 214,
     "metadata": {},
     "output_type": "execute_result"
    },
    {
     "data": {
      "image/png": "[encoded data removed]",
      "text/plain": [
       "<Figure size 1200x800 with 1 Axes>"
      ]
     },
     "metadata": {},
     "output_type": "display_data"
    }
   ],
   "source": [
    "con_mat = confusion_matrix(ytrue, ypred)\n",
    "plt.figure(figsize=(12, 8))\n",
    "#plt.subplot(1, 2, 1)\n",
    "sns.heatmap(con_mat, annot=True, vmin=0, fmt='g', cbar=False)\n",
    "plt.xticks(np.arange(len(classes_test)) + .5, classes, rotation=90, fontsize=14)\n",
    "plt.yticks(np.arange(len(classes_test)) + .5, classes, rotation=0, fontsize=14)\n",
    "plt.xlabel(\"Predicted\", fontsize=14)\n",
    "plt.ylabel(\"Actual\", fontsize=14)\n",
    "plt.title(\"Confusion Matrix\")"
   ]
  }
 ],
 "metadata": {
  "kernelspec": {
   "display_name": "Python 3 (ipykernel)",
   "language": "python",
   "name": "python3"
  },
  "language_info": {
   "codemirror_mode": {
    "name": "ipython",
    "version": 3
   },
   "file_extension": ".py",
   "mimetype": "text/x-python",
   "name": "python",
   "nbconvert_exporter": "python",
   "pygments_lexer": "ipython3",
   "version": "3.9.13"
  }
 },
 "nbformat": 4,
 "nbformat_minor": 5
}
