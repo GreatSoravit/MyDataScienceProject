{
 "cells": [
  {
   "cell_type": "markdown",
   "id": "017d3c9c",
   "metadata": {},
   "source": [
    "# Nutrient profiling system based on FSAm-NPS  \n",
    "\n",
    "Purpose: Explore data on food nutriention by process and analyse the data from nutrient dataset which use nutrient profiling to score and rank foods and products to acquire information and knowledge.\n",
    "\n",
    "Datasets : https://www.kaggle.com/datasets/trolukovich/nutritional-values-for-common-foods-and-products\n",
    "Citation: Deschasaux M, Huybrechts I, Murphy N, Julia C, Hercberg S, et al. (2018) Nutritional quality of food as represented by the FSAm-NPS nutrient profiling system underlying the Nutri-Score label and cancer risk in Europe: Results from the EPIC prospective cohort study. PLOS Medicine 15(9): e1002651. https://doi.org/10.1371/journal.pmed.1002651"
   ]
  },
  {
   "cell_type": "code",
   "execution_count": 50,
   "id": "68f2cb16",
   "metadata": {},
   "outputs": [],
   "source": [
    "import pandas as pd\n",
    "import numpy as np\n",
    "import matplotlib.pyplot as plt\n",
    "import random\n",
    "import re\n",
    "\n",
    "from sklearn.preprocessing import StandardScaler\n",
    "from sklearn.preprocessing import MinMaxScaler"
   ]
  },
  {
   "cell_type": "code",
   "execution_count": 51,
   "id": "aed58b4c",
   "metadata": {},
   "outputs": [
    {
     "data": {
      "text/html": [
       "<div>\n",
       "<style scoped>\n",
       "    .dataframe tbody tr th:only-of-type {\n",
       "        vertical-align: middle;\n",
       "    }\n",
       "\n",
       "    .dataframe tbody tr th {\n",
       "        vertical-align: top;\n",
       "    }\n",
       "\n",
       "    .dataframe thead th {\n",
       "        text-align: right;\n",
       "    }\n",
       "</style>\n",
       "<table border=\"1\" class=\"dataframe\">\n",
       "  <thead>\n",
       "    <tr style=\"text-align: right;\">\n",
       "      <th></th>\n",
       "      <th>Unnamed: 0</th>\n",
       "      <th>name</th>\n",
       "      <th>serving_size</th>\n",
       "      <th>calories</th>\n",
       "      <th>total_fat</th>\n",
       "      <th>saturated_fat</th>\n",
       "      <th>cholesterol</th>\n",
       "      <th>sodium</th>\n",
       "      <th>choline</th>\n",
       "      <th>folate</th>\n",
       "      <th>...</th>\n",
       "      <th>fat</th>\n",
       "      <th>saturated_fatty_acids</th>\n",
       "      <th>monounsaturated_fatty_acids</th>\n",
       "      <th>polyunsaturated_fatty_acids</th>\n",
       "      <th>fatty_acids_total_trans</th>\n",
       "      <th>alcohol</th>\n",
       "      <th>ash</th>\n",
       "      <th>caffeine</th>\n",
       "      <th>theobromine</th>\n",
       "      <th>water</th>\n",
       "    </tr>\n",
       "  </thead>\n",
       "  <tbody>\n",
       "    <tr>\n",
       "      <th>0</th>\n",
       "      <td>0</td>\n",
       "      <td>Cornstarch</td>\n",
       "      <td>100 g</td>\n",
       "      <td>381</td>\n",
       "      <td>0.1g</td>\n",
       "      <td>NaN</td>\n",
       "      <td>0</td>\n",
       "      <td>9.00 mg</td>\n",
       "      <td>0.4 mg</td>\n",
       "      <td>0.00 mcg</td>\n",
       "      <td>...</td>\n",
       "      <td>0.05 g</td>\n",
       "      <td>0.009 g</td>\n",
       "      <td>0.016 g</td>\n",
       "      <td>0.025 g</td>\n",
       "      <td>0.00 mg</td>\n",
       "      <td>0.0 g</td>\n",
       "      <td>0.09 g</td>\n",
       "      <td>0.00 mg</td>\n",
       "      <td>0.00 mg</td>\n",
       "      <td>8.32 g</td>\n",
       "    </tr>\n",
       "    <tr>\n",
       "      <th>1</th>\n",
       "      <td>1</td>\n",
       "      <td>Nuts, pecans</td>\n",
       "      <td>100 g</td>\n",
       "      <td>691</td>\n",
       "      <td>72g</td>\n",
       "      <td>6.2g</td>\n",
       "      <td>0</td>\n",
       "      <td>0.00 mg</td>\n",
       "      <td>40.5 mg</td>\n",
       "      <td>22.00 mcg</td>\n",
       "      <td>...</td>\n",
       "      <td>71.97 g</td>\n",
       "      <td>6.180 g</td>\n",
       "      <td>40.801 g</td>\n",
       "      <td>21.614 g</td>\n",
       "      <td>0.00 mg</td>\n",
       "      <td>0.0 g</td>\n",
       "      <td>1.49 g</td>\n",
       "      <td>0.00 mg</td>\n",
       "      <td>0.00 mg</td>\n",
       "      <td>3.52 g</td>\n",
       "    </tr>\n",
       "    <tr>\n",
       "      <th>2</th>\n",
       "      <td>2</td>\n",
       "      <td>Eggplant, raw</td>\n",
       "      <td>100 g</td>\n",
       "      <td>25</td>\n",
       "      <td>0.2g</td>\n",
       "      <td>NaN</td>\n",
       "      <td>0</td>\n",
       "      <td>2.00 mg</td>\n",
       "      <td>6.9 mg</td>\n",
       "      <td>22.00 mcg</td>\n",
       "      <td>...</td>\n",
       "      <td>0.18 g</td>\n",
       "      <td>0.034 g</td>\n",
       "      <td>0.016 g</td>\n",
       "      <td>0.076 g</td>\n",
       "      <td>0.00 mg</td>\n",
       "      <td>0.0 g</td>\n",
       "      <td>0.66 g</td>\n",
       "      <td>0.00 mg</td>\n",
       "      <td>0.00 mg</td>\n",
       "      <td>92.30 g</td>\n",
       "    </tr>\n",
       "    <tr>\n",
       "      <th>3</th>\n",
       "      <td>3</td>\n",
       "      <td>Teff, uncooked</td>\n",
       "      <td>100 g</td>\n",
       "      <td>367</td>\n",
       "      <td>2.4g</td>\n",
       "      <td>0.4g</td>\n",
       "      <td>0</td>\n",
       "      <td>12.00 mg</td>\n",
       "      <td>13.1 mg</td>\n",
       "      <td>0</td>\n",
       "      <td>...</td>\n",
       "      <td>2.38 g</td>\n",
       "      <td>0.449 g</td>\n",
       "      <td>0.589 g</td>\n",
       "      <td>1.071 g</td>\n",
       "      <td>0</td>\n",
       "      <td>0</td>\n",
       "      <td>2.37 g</td>\n",
       "      <td>0</td>\n",
       "      <td>0</td>\n",
       "      <td>8.82 g</td>\n",
       "    </tr>\n",
       "    <tr>\n",
       "      <th>4</th>\n",
       "      <td>4</td>\n",
       "      <td>Sherbet, orange</td>\n",
       "      <td>100 g</td>\n",
       "      <td>144</td>\n",
       "      <td>2g</td>\n",
       "      <td>1.2g</td>\n",
       "      <td>1mg</td>\n",
       "      <td>46.00 mg</td>\n",
       "      <td>7.7 mg</td>\n",
       "      <td>4.00 mcg</td>\n",
       "      <td>...</td>\n",
       "      <td>2.00 g</td>\n",
       "      <td>1.160 g</td>\n",
       "      <td>0.530 g</td>\n",
       "      <td>0.080 g</td>\n",
       "      <td>1.00 mg</td>\n",
       "      <td>0.0 g</td>\n",
       "      <td>0.40 g</td>\n",
       "      <td>0.00 mg</td>\n",
       "      <td>0.00 mg</td>\n",
       "      <td>66.10 g</td>\n",
       "    </tr>\n",
       "  </tbody>\n",
       "</table>\n",
       "<p>5 rows × 77 columns</p>\n",
       "</div>"
      ],
      "text/plain": [
       "   Unnamed: 0             name serving_size  calories total_fat saturated_fat  \\\n",
       "0           0       Cornstarch        100 g       381      0.1g           NaN   \n",
       "1           1     Nuts, pecans        100 g       691       72g          6.2g   \n",
       "2           2    Eggplant, raw        100 g        25      0.2g           NaN   \n",
       "3           3   Teff, uncooked        100 g       367      2.4g          0.4g   \n",
       "4           4  Sherbet, orange        100 g       144        2g          1.2g   \n",
       "\n",
       "  cholesterol    sodium  choline     folate  ...      fat  \\\n",
       "0           0   9.00 mg   0.4 mg   0.00 mcg  ...   0.05 g   \n",
       "1           0   0.00 mg  40.5 mg  22.00 mcg  ...  71.97 g   \n",
       "2           0   2.00 mg   6.9 mg  22.00 mcg  ...   0.18 g   \n",
       "3           0  12.00 mg  13.1 mg          0  ...   2.38 g   \n",
       "4         1mg  46.00 mg   7.7 mg   4.00 mcg  ...   2.00 g   \n",
       "\n",
       "  saturated_fatty_acids monounsaturated_fatty_acids  \\\n",
       "0               0.009 g                     0.016 g   \n",
       "1               6.180 g                    40.801 g   \n",
       "2               0.034 g                     0.016 g   \n",
       "3               0.449 g                     0.589 g   \n",
       "4               1.160 g                     0.530 g   \n",
       "\n",
       "  polyunsaturated_fatty_acids fatty_acids_total_trans alcohol     ash  \\\n",
       "0                     0.025 g                 0.00 mg   0.0 g  0.09 g   \n",
       "1                    21.614 g                 0.00 mg   0.0 g  1.49 g   \n",
       "2                     0.076 g                 0.00 mg   0.0 g  0.66 g   \n",
       "3                     1.071 g                       0       0  2.37 g   \n",
       "4                     0.080 g                 1.00 mg   0.0 g  0.40 g   \n",
       "\n",
       "  caffeine theobromine    water  \n",
       "0  0.00 mg     0.00 mg   8.32 g  \n",
       "1  0.00 mg     0.00 mg   3.52 g  \n",
       "2  0.00 mg     0.00 mg  92.30 g  \n",
       "3        0           0   8.82 g  \n",
       "4  0.00 mg     0.00 mg  66.10 g  \n",
       "\n",
       "[5 rows x 77 columns]"
      ]
     },
     "execution_count": 51,
     "metadata": {},
     "output_type": "execute_result"
    }
   ],
   "source": [
    "# Load data from csv\n",
    "\n",
    "nutrition_df = pd.read_csv(\"Dataset/nutrition.csv\")\n",
    "nutrition_df.head()"
   ]
  },
  {
   "cell_type": "markdown",
   "id": "86cca81f",
   "metadata": {},
   "source": [
    "## Processing dataframe"
   ]
  },
  {
   "cell_type": "code",
   "execution_count": 52,
   "id": "1da16dd7",
   "metadata": {},
   "outputs": [
    {
     "data": {
      "text/html": [
       "<div>\n",
       "<style scoped>\n",
       "    .dataframe tbody tr th:only-of-type {\n",
       "        vertical-align: middle;\n",
       "    }\n",
       "\n",
       "    .dataframe tbody tr th {\n",
       "        vertical-align: top;\n",
       "    }\n",
       "\n",
       "    .dataframe thead th {\n",
       "        text-align: right;\n",
       "    }\n",
       "</style>\n",
       "<table border=\"1\" class=\"dataframe\">\n",
       "  <thead>\n",
       "    <tr style=\"text-align: right;\">\n",
       "      <th></th>\n",
       "      <th>saturated_fat</th>\n",
       "    </tr>\n",
       "  </thead>\n",
       "  <tbody>\n",
       "    <tr>\n",
       "      <th>0</th>\n",
       "      <td>NaN</td>\n",
       "    </tr>\n",
       "    <tr>\n",
       "      <th>2</th>\n",
       "      <td>NaN</td>\n",
       "    </tr>\n",
       "    <tr>\n",
       "      <th>10</th>\n",
       "      <td>NaN</td>\n",
       "    </tr>\n",
       "    <tr>\n",
       "      <th>11</th>\n",
       "      <td>NaN</td>\n",
       "    </tr>\n",
       "    <tr>\n",
       "      <th>12</th>\n",
       "      <td>NaN</td>\n",
       "    </tr>\n",
       "    <tr>\n",
       "      <th>...</th>\n",
       "      <td>...</td>\n",
       "    </tr>\n",
       "    <tr>\n",
       "      <th>8655</th>\n",
       "      <td>NaN</td>\n",
       "    </tr>\n",
       "    <tr>\n",
       "      <th>8662</th>\n",
       "      <td>NaN</td>\n",
       "    </tr>\n",
       "    <tr>\n",
       "      <th>8694</th>\n",
       "      <td>NaN</td>\n",
       "    </tr>\n",
       "    <tr>\n",
       "      <th>8764</th>\n",
       "      <td>NaN</td>\n",
       "    </tr>\n",
       "    <tr>\n",
       "      <th>8772</th>\n",
       "      <td>NaN</td>\n",
       "    </tr>\n",
       "  </tbody>\n",
       "</table>\n",
       "<p>1590 rows × 1 columns</p>\n",
       "</div>"
      ],
      "text/plain": [
       "     saturated_fat\n",
       "0              NaN\n",
       "2              NaN\n",
       "10             NaN\n",
       "11             NaN\n",
       "12             NaN\n",
       "...            ...\n",
       "8655           NaN\n",
       "8662           NaN\n",
       "8694           NaN\n",
       "8764           NaN\n",
       "8772           NaN\n",
       "\n",
       "[1590 rows x 1 columns]"
      ]
     },
     "execution_count": 52,
     "metadata": {},
     "output_type": "execute_result"
    }
   ],
   "source": [
    "# Drop unused columns\n",
    "nutrition_df = nutrition_df.drop(['Unnamed: 0'], axis=1)\n",
    "\n",
    "# Check Null column\n",
    "null_field = nutrition_df.columns[(nutrition_df.isnull().sum()) > 0]\n",
    "nutrition_df[nutrition_df.isnull().any(axis=1)][[null_field[0]]]"
   ]
  },
  {
   "cell_type": "code",
   "execution_count": 53,
   "id": "e9f83320",
   "metadata": {},
   "outputs": [],
   "source": [
    "# Fill null value and change type to string \n",
    "nutrition_df['saturated_fat'] = nutrition_df['saturated_fat'].fillna(0)\n",
    "nutrition_df['saturated_fat'] = nutrition_df['saturated_fat'].astype(str)\n",
    "\n",
    "# Change some columns name\n",
    "nutrition_df = nutrition_df.rename(columns={'irom': 'iron', 'zink': 'zinc', 'monounsaturated_fatty_acids': 'monounsaturated_fat'})"
   ]
  },
  {
   "cell_type": "code",
   "execution_count": 54,
   "id": "7f93f19e",
   "metadata": {},
   "outputs": [
    {
     "data": {
      "text/html": [
       "<div>\n",
       "<style scoped>\n",
       "    .dataframe tbody tr th:only-of-type {\n",
       "        vertical-align: middle;\n",
       "    }\n",
       "\n",
       "    .dataframe tbody tr th {\n",
       "        vertical-align: top;\n",
       "    }\n",
       "\n",
       "    .dataframe thead th {\n",
       "        text-align: right;\n",
       "    }\n",
       "</style>\n",
       "<table border=\"1\" class=\"dataframe\">\n",
       "  <thead>\n",
       "    <tr style=\"text-align: right;\">\n",
       "      <th></th>\n",
       "      <th>name</th>\n",
       "      <th>calories</th>\n",
       "      <th>total_fat</th>\n",
       "      <th>saturated_fat</th>\n",
       "      <th>cholesterol</th>\n",
       "      <th>sodium</th>\n",
       "      <th>choline</th>\n",
       "      <th>folate</th>\n",
       "      <th>folic_acid</th>\n",
       "      <th>niacin</th>\n",
       "      <th>...</th>\n",
       "      <th>fat</th>\n",
       "      <th>saturated_fatty_acids</th>\n",
       "      <th>monounsaturated_fat</th>\n",
       "      <th>polyunsaturated_fatty_acids</th>\n",
       "      <th>fatty_acids_total_trans</th>\n",
       "      <th>alcohol</th>\n",
       "      <th>ash</th>\n",
       "      <th>caffeine</th>\n",
       "      <th>theobromine</th>\n",
       "      <th>water</th>\n",
       "    </tr>\n",
       "    <tr>\n",
       "      <th>serving_size</th>\n",
       "      <th></th>\n",
       "      <th></th>\n",
       "      <th></th>\n",
       "      <th></th>\n",
       "      <th></th>\n",
       "      <th></th>\n",
       "      <th></th>\n",
       "      <th></th>\n",
       "      <th></th>\n",
       "      <th></th>\n",
       "      <th></th>\n",
       "      <th></th>\n",
       "      <th></th>\n",
       "      <th></th>\n",
       "      <th></th>\n",
       "      <th></th>\n",
       "      <th></th>\n",
       "      <th></th>\n",
       "      <th></th>\n",
       "      <th></th>\n",
       "      <th></th>\n",
       "    </tr>\n",
       "  </thead>\n",
       "  <tbody>\n",
       "    <tr>\n",
       "      <th>100 g</th>\n",
       "      <td>8789</td>\n",
       "      <td>8789</td>\n",
       "      <td>8789</td>\n",
       "      <td>8789</td>\n",
       "      <td>8789</td>\n",
       "      <td>8789</td>\n",
       "      <td>8789</td>\n",
       "      <td>8789</td>\n",
       "      <td>8789</td>\n",
       "      <td>8789</td>\n",
       "      <td>...</td>\n",
       "      <td>8789</td>\n",
       "      <td>8789</td>\n",
       "      <td>8789</td>\n",
       "      <td>8789</td>\n",
       "      <td>8789</td>\n",
       "      <td>8789</td>\n",
       "      <td>8789</td>\n",
       "      <td>8789</td>\n",
       "      <td>8789</td>\n",
       "      <td>8789</td>\n",
       "    </tr>\n",
       "  </tbody>\n",
       "</table>\n",
       "<p>1 rows × 75 columns</p>\n",
       "</div>"
      ],
      "text/plain": [
       "              name  calories  total_fat  saturated_fat  cholesterol  sodium  \\\n",
       "serving_size                                                                  \n",
       "100 g         8789      8789       8789           8789         8789    8789   \n",
       "\n",
       "              choline  folate  folic_acid  niacin  ...   fat  \\\n",
       "serving_size                                       ...         \n",
       "100 g            8789    8789        8789    8789  ...  8789   \n",
       "\n",
       "              saturated_fatty_acids  monounsaturated_fat  \\\n",
       "serving_size                                               \n",
       "100 g                          8789                 8789   \n",
       "\n",
       "              polyunsaturated_fatty_acids  fatty_acids_total_trans  alcohol  \\\n",
       "serving_size                                                                  \n",
       "100 g                                8789                     8789     8789   \n",
       "\n",
       "               ash  caffeine  theobromine  water  \n",
       "serving_size                                      \n",
       "100 g         8789      8789         8789   8789  \n",
       "\n",
       "[1 rows x 75 columns]"
      ]
     },
     "execution_count": 54,
     "metadata": {},
     "output_type": "execute_result"
    }
   ],
   "source": [
    "# Check serving size for comparing nutrient\n",
    "nutrition_df.groupby('serving_size').count()"
   ]
  },
  {
   "cell_type": "code",
   "execution_count": 55,
   "id": "d3ed0295",
   "metadata": {},
   "outputs": [],
   "source": [
    "# remove units and change to float for calculating purpose\n",
    "\n",
    "nutrition_df['vitamin_a'] = nutrition_df['vitamin_a'].str.replace('mcg', '')\n",
    "\n",
    "for col in ['vitamin_a','vitamin_d']:\n",
    "    nutrition_df[col] = nutrition_df[col].map(lambda x: x.replace('IU','')).astype(float)\n",
    "    \n",
    "for col in ['vitamin_c','vitamin_e','thiamin','riboflavin','calcium','iron','zinc','potassium','sodium','choline','copper','magnesium', 'manganese','phosphorous']:   \n",
    "    nutrition_df[col] = nutrition_df[col].map(lambda x: x.replace('mg','')).astype(float)\n",
    "    \n",
    "for col in ['total_fat','protein','carbohydrate','fat','saturated_fat','sugars','fiber','monounsaturated_fat']:   \n",
    "    nutrition_df[col] = nutrition_df[col].map(lambda x: x.replace('g','')).astype(float)\n",
    "    \n",
    "for col in ['vitamin_b12','folate']:   \n",
    "    nutrition_df[col] = nutrition_df[col].map(lambda x: x.replace('mcg','')).astype(float) "
   ]
  },
  {
   "cell_type": "code",
   "execution_count": 56,
   "id": "50fbdf94",
   "metadata": {},
   "outputs": [],
   "source": [
    "# Define Category function to define type of food and getindex function\n",
    "def setCategory(df, string_category, category):\n",
    "    if(category == 'drink'):\n",
    "        index_list = df[df['name'].str.contains(('|').join(string_category), flags=re.I)].index\n",
    "    elif(category == 'fruit'):\n",
    "        index_list = df[(df['category'] != 'drinks') & (df['name'].str.contains(('|').join(string_category), flags=re.I)) & (df['name'].str.contains('raw', flags=re.I))].index\n",
    "    else:\n",
    "        index_list = df[(df['category'] != 'drinks') & (df['name'].str.contains(('|').join(string_category), flags=re.I))].index\n",
    "    \n",
    "    df.loc[index_list,['category']] = category\n",
    "    \n",
    "def getIndex(string_drink):\n",
    "    index_list = nutrition_df[nutrition_df['name'].str.contains(('|').join(string_drink), flags=re.I)].index\n",
    "    return index_list"
   ]
  },
  {
   "cell_type": "code",
   "execution_count": 57,
   "id": "457c7c44",
   "metadata": {},
   "outputs": [],
   "source": [
    "# Define ingredient for each category for using in search and assign category\n",
    "# Category : fruit / vegetable / nuts / legume / food / drink / cheese\n",
    "\n",
    "test_category_food = nutrition_df.copy()\n",
    "test_category_food['category'] = ''\n",
    "\n",
    "drink = ['drink', 'beverage', 'juice', 'milk']\n",
    "\n",
    "fruits_name = ['watermelon','Banana','apple','orange','Grape','Melon','Peache','Papaya',\n",
    " 'Pear','Kiwi','Lime','Tangerine','Blueberries','Blueberry','Cherries','Cherry','Pineapple',\n",
    " 'Passion fruit','fruit','Grapefruit','Fig','Cranberries','Cranberry','Lemon','Mango','Pomegranate',\n",
    " 'Pumpkin','Lychee','Apricot']\n",
    "\n",
    "legumes= 'bean|peas|peanut|lentils|hummus|chickpeas|chickpea|soybeans|tofu|alfalfa sprouts|bean sprouts|green beans'\n",
    "legumes_split = legumes.split('|')\n",
    "legumes_name = [s.rstrip('s') for s in legumes_split]\n",
    "\n",
    "vegetables = 'vegetable|amaranth leaves|arugula|rocket|basil|beet greens|bitter melon leaves|bok choy|broccoli|broccoli rabe|rapini|broccolini|chamnamul|chard|chrysanthemum leaves| cilantro|collard greens|cress|dandelion greens|dark-green leafy lettuce|endive|escarole|kale|lambsquarters|mesclun|mixed greens|mustard greens|nettles|poke greens|romaine lettuce|spinach|Swiss chard|taro leaves|turnip greens|watercress|lettuce|acorn squash|butternut squash|calabaza|carrot|carrot|hubbard squash|kabocha squash|pimento/pimiento|pumpkin|red and orange bell peppers|red chili peppers|red peppers, sweet|sweet potatoes|tomatoes|100% vegetable juice|winter squash|squash|bell pepper|orange bell pepper|red bell pepper|breadfruit|burdock root|cassava|corn|fufu|hominy|jicama|lotus root|parsnips|plantains|potatoes|salsify|tapioca|taro root|dasheen or yautia|water chestnuts|yams|yucca|sweet potatoes|sweet potato|arrowroot|artichokes|asparagus|avocado|bamboo shoots|beets|bitter melon|bitter gourd|balsam pear|broccoflower|Brussels sprouts|cabbage|cactus pads|nopales|cauliflower|cauliflower,|celeriac|celery|chayote|mirliton|chives|cucumber|daikon|drumstick pods|moringa|eggplant|fennel bulb|fiddlehead ferns|garlic|ginger root|green peppers|hearts of palm|Jerusalem artichokes|sunchokes|jute|kohlrabi|leeks|luffa|Chinese okra|mushrooms|okra|onions|pattypan squash|purslane|radicchio|radishes|red cabbage|rutabaga|seaweed|scallions|snow peas|sorrel|spaghetti squash|tomatillos|turnips|wax beans|yellow squash|zucchini'\n",
    "vegetables_split = vegetables.split('|')\n",
    "vegetables_name = [s.rstrip('s') for s in vegetables_split]\n",
    "\n",
    "nuts = 'nut|peacan|almonds|almond butter|Brazil nuts|cashew butter|cashews|chestnuts|chia seeds|flax seeds|hazelnuts|filberts|macadamia nuts|mixed nuts|peanut butter|peanuts|pecans|pine nuts|pistachios|pumpkin seeds|sesame butter or paste|tahini|sesame seeds|sunflower butter|sunflower seeds|walnuts|nuts'\n",
    "nuts_split = nuts.split('|')\n",
    "nuts_name = [s.rstrip('s') for s in nuts_split]\n",
    "\n",
    "cheese_name = ['cheese']\n",
    "\n",
    "category_list = [drink,fruits_name,vegetables_name,nuts_name,legumes_name,cheese_name]\n",
    "category_name = ['drinks','fruits','vegetables','nuts','legumes','cheese']"
   ]
  },
  {
   "cell_type": "code",
   "execution_count": 58,
   "id": "aea293f1",
   "metadata": {},
   "outputs": [],
   "source": [
    "# set Category\n",
    "for i in range(len(category_name)):\n",
    "    setCategory(test_category_food, category_list[i], category_name[i])\n",
    "\n",
    "# The rest that not contain following ingredient set as foods\n",
    "restfood_index = test_category_food[test_category_food['category'] == ''].index\n",
    "test_category_food.loc[restfood_index,['category']] = 'food'"
   ]
  },
  {
   "cell_type": "code",
   "execution_count": 59,
   "id": "d1bbf169",
   "metadata": {},
   "outputs": [],
   "source": [
    "# Create new column that convert Caloreis to Energy(kJ) : 1 Calories 4.184 KJ\n",
    "test_category_food['Energy (kJ)'] = np.round(test_category_food['calories'] * 4.184)\n",
    "\n",
    "# Count ingredient to use in assign Fruits/vegetables/legumes/nuts (%)\n",
    "test_category_food['ingredient_length'] = test_category_food['name'].apply(lambda x: len(x.split(',')))"
   ]
  },
  {
   "cell_type": "code",
   "execution_count": 60,
   "id": "ab178687",
   "metadata": {},
   "outputs": [],
   "source": [
    "# Check category\n",
    "#test_category_food.groupby('category').count()"
   ]
  },
  {
   "cell_type": "markdown",
   "id": "ad939325",
   "metadata": {},
   "source": [
    "## FSAm-NPS score calculation"
   ]
  },
  {
   "cell_type": "markdown",
   "id": "45a2508c",
   "metadata": {},
   "source": [
    "#### As for Fruits/vegetables/legumes/nuts (%) need to use V point to indicate score based on their ingredients separately, so the food assign value assume base on number of ingredients meaning that the more ingredients in the food are less of FVLN value\n",
    "If their ingredient consist \n",
    "- equal or less than 3 then their % is > 80\n",
    "- equal to 4 then their % is > 60\n",
    "- equal to 5 then their % is > 40\n",
    "- not contain following ingredient then their % is <= 40"
   ]
  },
  {
   "cell_type": "code",
   "execution_count": 61,
   "id": "ff23f54d",
   "metadata": {},
   "outputs": [],
   "source": [
    "# As category food is not consist of Fruits/vegetables/legumes/nuts ingredients suppose the value to <=40\n",
    "def assignFVLN(category, length):\n",
    "    if category != 'food':\n",
    "        if length <= 3:\n",
    "            return '>80'\n",
    "        elif length == 4:\n",
    "            return '>60'\n",
    "        elif length == 5:\n",
    "            return '>40'\n",
    "        else:\n",
    "            return '<=40'\n",
    "    else:\n",
    "        return '<=40'\n",
    "    \n",
    "test_category_food['FVLN (%)'] = test_category_food.apply(lambda x: assignFVLN(x['category'],x['ingredient_length']), axis=1)"
   ]
  },
  {
   "cell_type": "markdown",
   "id": "59ee1a3c",
   "metadata": {},
   "source": [
    "### According to FSAm-NPS score computation at food/beverage level \n",
    "https://journals.plos.org/plosmedicine/article?id=10.1371/journal.pmed.1002651#sec008\n",
    "\n",
    "Calculate the nutritional quality of food with FSAm-NPS nutrient profiling system\n",
    "\n",
    "### Example of calculate Nutrient points on food only (drinks score has slightly change in calculation value)\n",
    "A points \n",
    "Total A points = (points for energy) + (points for saturated fat) + (points for total sugar) + (points for sodium)\n",
    "\n",
    "C points\n",
    "Total C points = (points for fruits/vegetables/legumes/nuts) + (points for fibres) + (points for proteins)\n",
    "\n",
    "### Overall score computation\n",
    "\n",
    "• If Total A points <11, then FSAm-NPS score =Total A points – Total C points\n",
    "\n",
    "• If Total A points ≥11,\n",
    "\n",
    "    o If points for fruits/vegetables/legumes/nuts =5, then FSAm-NPS score =Total A points – Total C points\n",
    "    o Else if points for fruits/vegetables/legumes/nuts <5, then FSAm-NPS score = Total A points – (points\n",
    "    for fibre + points for fruits/vegetables/legumes/nuts). "
   ]
  },
  {
   "cell_type": "code",
   "execution_count": 62,
   "id": "d15e7ecf",
   "metadata": {},
   "outputs": [],
   "source": [
    "def calculateTotalPointA(category, energy, fat, sugar, sodium):\n",
    "    \n",
    "    total_points_a = 0\n",
    "    energy_point = 0\n",
    "    fat_point = 0\n",
    "    sugar_point = 0\n",
    "    sodium_point = 0\n",
    "    if (category != 'drinks'):\n",
    "        if np.floor((energy / 335) - 0.0001) >= 10:\n",
    "            energy_point += 10\n",
    "        else:\n",
    "            energy_point += np.floor( (energy / 335) - 0.0001)\n",
    "    \n",
    "        if np.floor((fat / 1) - 0.0001) >= 10:\n",
    "            fat_point += 10\n",
    "        else:\n",
    "            fat_point += np.floor((fat / 1) - 0.0001)\n",
    "        \n",
    "        if np.floor((sugar / 4.55) - 0.0001) >= 10:\n",
    "            sugar_point += 10\n",
    "        else:\n",
    "            sugar_point += np.floor((sugar / 4.5) - 0.0001)\n",
    "        \n",
    "        if np.floor((sodium / 90) - 0.0001) >= 10:\n",
    "            sodium_point += 10\n",
    "        else:\n",
    "            sodium_point += np.floor((sodium / 90) - 0.0001)\n",
    "    \n",
    "    else:\n",
    "        if np.ceil((energy / 30)) >= 10:\n",
    "            energy_point += 10\n",
    "        else:\n",
    "            energy_point += np.ceil( (energy / 30))\n",
    "    \n",
    "        if np.floor((fat / 1) - 0.0001) >= 10:\n",
    "            fat_point += 10\n",
    "        else:\n",
    "            fat_point += np.floor((fat / 1) - 0.0001)\n",
    "        \n",
    "        if np.ceil((sugar / 1.5)) >= 10:\n",
    "            sugar_point += 10\n",
    "        else:\n",
    "            sugar_point += np.ceil((sugar / 1.5))\n",
    "        \n",
    "        if np.floor((sodium / 90) - 0.0001) >= 10:\n",
    "            sodium_point += 10\n",
    "        else:\n",
    "            sodium_point += np.floor((sodium / 90) - 0.0001)\n",
    "    \n",
    "    # set back minus value from np.floor\n",
    "    if energy_point < 0: energy_point = 0\n",
    "    if fat_point < 0: fat_point = 0\n",
    "    if sugar_point < 0: sugar_point = 0  \n",
    "    if sodium_point < 0: sodium_point = 0 \n",
    "        \n",
    "    total_points_a = energy_point + fat_point + sugar_point + sodium_point\n",
    "    return total_points_a\n",
    "    \n",
    "    \n",
    "def calculateNutriScore(category, total_points_a, flvn, fiber, protein):    \n",
    "    \n",
    "    nutri_points = 0\n",
    "    total_points_c = 0\n",
    "    flvn_point = 0\n",
    "    fiber_point = 0\n",
    "    protein_point = 0\n",
    "    if (category != 'drinks'):\n",
    "        \n",
    "        if flvn == '<=40':\n",
    "            flvn_point += 0\n",
    "        elif flvn == '>40':\n",
    "            flvn_point += 1\n",
    "        elif flvn == '>60':\n",
    "            flvn_point += 2\n",
    "        elif flvn == '>80':\n",
    "            flvn_point += 5\n",
    "\n",
    "        if np.floor((fiber / 0.7) - 0.0001) >= 5:\n",
    "            fiber_point += 5\n",
    "        else:\n",
    "            fiber_point += np.floor((fiber / 0.7) - 0.0001)\n",
    "            \n",
    "        if np.floor((protein / 1.6) - 0.0001) >= 5:\n",
    "            protein_point += 5\n",
    "        else:\n",
    "            protein_point += np.floor((fiber / 1.6) - 0.0001)    \n",
    "            \n",
    "    else:\n",
    "        \n",
    "        if flvn == '<=40':\n",
    "            flvn_point += 0\n",
    "        elif flvn == '>40':\n",
    "            flvn_point += 2\n",
    "        elif flvn == '>60':\n",
    "            flvn_point += 4\n",
    "        elif flvn == '>80':\n",
    "            flvn_point += 10\n",
    "            \n",
    "        if np.floor((fiber / 0.7) - 0.0001) >= 5:\n",
    "            fiber_point += 5\n",
    "        else:\n",
    "            fiber_point += np.floor((fiber / 0.7) - 0.0001)\n",
    "            \n",
    "        if np.floor((protein / 1.6) - 0.0001) >= 5:\n",
    "            protein_point += 5\n",
    "        else:\n",
    "            protein_point += np.floor((fiber / 1.6) - 0.0001)        \n",
    "            \n",
    "            \n",
    "    # set back value from np.floor    \n",
    "    if fiber_point < 0: fiber_point = 0\n",
    "    if protein_point < 0: protein_point = 0\n",
    "\n",
    "    total_points_c = flvn_point + fiber_point + protein_point\n",
    "\n",
    "    # Calculate Nutri Score based on FSAm-NPS score computation\n",
    "    \n",
    "    if category == 'cheese':\n",
    "        nutri_points = total_points_a - total_points_c\n",
    "    elif category == 'drinks':\n",
    "        if (total_points_a < 11) or (flvn_point == 10):\n",
    "            nutri_points = total_points_a - total_points_c\n",
    "        else:\n",
    "            nutri_points = total_points_a - (fiber_point+flvn_point)\n",
    "    else: \n",
    "        if (total_points_a < 11) or (flvn_point == 5):\n",
    "            nutri_points = total_points_a - total_points_c\n",
    "        else:\n",
    "            nutri_points = total_points_a - (fiber_point+flvn_point)\n",
    "    \n",
    "    return nutri_points"
   ]
  },
  {
   "cell_type": "code",
   "execution_count": 63,
   "id": "a449ad3e",
   "metadata": {},
   "outputs": [],
   "source": [
    "# Calculate points_a and final NutriScore\n",
    "test_category_food['points_a'] = test_category_food.apply(lambda x: calculateTotalPointA(x['category'],x['Energy (kJ)'], x['saturated_fat'], x['sugars'], x['sodium']), axis=1)\n",
    "test_category_food['NutriScore'] = test_category_food.apply(lambda x: calculateNutriScore(x['category'],x['points_a'],x['FVLN (%)'], x['fiber'], x['protein']), axis=1)"
   ]
  },
  {
   "cell_type": "code",
   "execution_count": 64,
   "id": "282060fe",
   "metadata": {},
   "outputs": [
    {
     "data": {
      "text/html": [
       "<div>\n",
       "<style scoped>\n",
       "    .dataframe tbody tr th:only-of-type {\n",
       "        vertical-align: middle;\n",
       "    }\n",
       "\n",
       "    .dataframe tbody tr th {\n",
       "        vertical-align: top;\n",
       "    }\n",
       "\n",
       "    .dataframe thead th {\n",
       "        text-align: right;\n",
       "    }\n",
       "</style>\n",
       "<table border=\"1\" class=\"dataframe\">\n",
       "  <thead>\n",
       "    <tr style=\"text-align: right;\">\n",
       "      <th></th>\n",
       "      <th>name</th>\n",
       "      <th>Energy (kJ)</th>\n",
       "      <th>category</th>\n",
       "      <th>points_a</th>\n",
       "      <th>NutriScore</th>\n",
       "    </tr>\n",
       "  </thead>\n",
       "  <tbody>\n",
       "    <tr>\n",
       "      <th>5</th>\n",
       "      <td>Cauliflower, raw</td>\n",
       "      <td>105.0</td>\n",
       "      <td>vegetables</td>\n",
       "      <td>0.0</td>\n",
       "      <td>-8.0</td>\n",
       "    </tr>\n",
       "    <tr>\n",
       "      <th>6</th>\n",
       "      <td>Taro leaves, raw</td>\n",
       "      <td>176.0</td>\n",
       "      <td>vegetables</td>\n",
       "      <td>0.0</td>\n",
       "      <td>-12.0</td>\n",
       "    </tr>\n",
       "    <tr>\n",
       "      <th>7</th>\n",
       "      <td>Lamb, raw, ground</td>\n",
       "      <td>1180.0</td>\n",
       "      <td>food</td>\n",
       "      <td>12.0</td>\n",
       "      <td>12.0</td>\n",
       "    </tr>\n",
       "    <tr>\n",
       "      <th>8</th>\n",
       "      <td>Cheese, camembert</td>\n",
       "      <td>1255.0</td>\n",
       "      <td>cheese</td>\n",
       "      <td>22.0</td>\n",
       "      <td>12.0</td>\n",
       "    </tr>\n",
       "    <tr>\n",
       "      <th>9</th>\n",
       "      <td>Vegetarian fillets</td>\n",
       "      <td>1213.0</td>\n",
       "      <td>food</td>\n",
       "      <td>10.0</td>\n",
       "      <td>0.0</td>\n",
       "    </tr>\n",
       "  </tbody>\n",
       "</table>\n",
       "</div>"
      ],
      "text/plain": [
       "                 name  Energy (kJ)    category  points_a  NutriScore\n",
       "5    Cauliflower, raw        105.0  vegetables       0.0        -8.0\n",
       "6    Taro leaves, raw        176.0  vegetables       0.0       -12.0\n",
       "7   Lamb, raw, ground       1180.0        food      12.0        12.0\n",
       "8   Cheese, camembert       1255.0      cheese      22.0        12.0\n",
       "9  Vegetarian fillets       1213.0        food      10.0         0.0"
      ]
     },
     "execution_count": 64,
     "metadata": {},
     "output_type": "execute_result"
    }
   ],
   "source": [
    "# Check NutriScore Column\n",
    "test_category_food[['name','Energy (kJ)','category','points_a','NutriScore']][5:10]"
   ]
  },
  {
   "cell_type": "markdown",
   "id": "f9623f1a",
   "metadata": {},
   "source": [
    "### FSAm-NPS score and Attribution of Nutri-Score\n",
    "\n",
    "Foods points\n",
    "\n",
    "[<-1] = 0 (Highest nutritional quality) \n",
    "\n",
    "[0-2] = 1\n",
    "\n",
    "[3-10] = 2 (Medium nutritional quality)\n",
    "\n",
    "[11-18] = 3\n",
    "\n",
    "[>=19] = 4 (Lowest nutritional quality)\n",
    "\n",
    "\n",
    "Drinks points\n",
    "\n",
    "[Water] = 0 (Highest nutritional quality)\n",
    "\n",
    "[<= 1] = 1\n",
    "\n",
    "[2-5] = 2 (Medium nutritional quality)\n",
    "\n",
    "[6-9] = 3\n",
    "\n",
    "[>=10] = 4 (Lowest nutritional quality)"
   ]
  },
  {
   "cell_type": "code",
   "execution_count": 65,
   "id": "dbe199f2",
   "metadata": {},
   "outputs": [],
   "source": [
    "def defineNutriRANK(category, nutriscore):\n",
    "    \n",
    "    score = int(nutriscore)\n",
    "    ranking = ''\n",
    "    \n",
    "    if category != 'drinks':\n",
    "        if score < 0: ranking = 'Highest'        \n",
    "        if (score >= 0) & (score < 3): ranking = 'High'     \n",
    "        if (score > 2) & (score < 11): ranking = 'Medium'     \n",
    "        if (score > 10) & (score < 19): ranking = 'Low'        \n",
    "        if score > 18: ranking = 'Lowest'    \n",
    "            \n",
    "    else:\n",
    "        if score < 2: ranking = 'High'\n",
    "        if (score >= 2) & (score < 6): ranking = 'Medium'  \n",
    "        if (score > 5) & (score < 10): ranking = 'Low'\n",
    "        if score >= 10: ranking = 'Lowest'\n",
    "            \n",
    "    return ranking"
   ]
  },
  {
   "cell_type": "code",
   "execution_count": 66,
   "id": "73af08f7",
   "metadata": {},
   "outputs": [],
   "source": [
    "# Create NutriRank column for easy to intrepret\n",
    "test_category_food['NutriRank'] = test_category_food.apply(lambda x: defineNutriRANK(x['category'],x['NutriScore']), axis=1)"
   ]
  },
  {
   "cell_type": "code",
   "execution_count": 67,
   "id": "0d4dc991",
   "metadata": {},
   "outputs": [
    {
     "data": {
      "text/html": [
       "<div>\n",
       "<style scoped>\n",
       "    .dataframe tbody tr th:only-of-type {\n",
       "        vertical-align: middle;\n",
       "    }\n",
       "\n",
       "    .dataframe tbody tr th {\n",
       "        vertical-align: top;\n",
       "    }\n",
       "\n",
       "    .dataframe thead th {\n",
       "        text-align: right;\n",
       "    }\n",
       "</style>\n",
       "<table border=\"1\" class=\"dataframe\">\n",
       "  <thead>\n",
       "    <tr style=\"text-align: right;\">\n",
       "      <th></th>\n",
       "      <th>name</th>\n",
       "      <th>Energy (kJ)</th>\n",
       "      <th>category</th>\n",
       "      <th>points_a</th>\n",
       "      <th>NutriScore</th>\n",
       "      <th>NutriRank</th>\n",
       "    </tr>\n",
       "  </thead>\n",
       "  <tbody>\n",
       "    <tr>\n",
       "      <th>10</th>\n",
       "      <td>PACE, Picante Sauce</td>\n",
       "      <td>105.0</td>\n",
       "      <td>food</td>\n",
       "      <td>9.0</td>\n",
       "      <td>4.0</td>\n",
       "      <td>Medium</td>\n",
       "    </tr>\n",
       "    <tr>\n",
       "      <th>11</th>\n",
       "      <td>Goji berries, dried</td>\n",
       "      <td>1460.0</td>\n",
       "      <td>food</td>\n",
       "      <td>17.0</td>\n",
       "      <td>12.0</td>\n",
       "      <td>Low</td>\n",
       "    </tr>\n",
       "    <tr>\n",
       "      <th>12</th>\n",
       "      <td>Mango nectar, canned</td>\n",
       "      <td>213.0</td>\n",
       "      <td>fruits</td>\n",
       "      <td>2.0</td>\n",
       "      <td>-3.0</td>\n",
       "      <td>Highest</td>\n",
       "    </tr>\n",
       "    <tr>\n",
       "      <th>13</th>\n",
       "      <td>Crackers, rusk toast</td>\n",
       "      <td>1703.0</td>\n",
       "      <td>food</td>\n",
       "      <td>8.0</td>\n",
       "      <td>3.0</td>\n",
       "      <td>Medium</td>\n",
       "    </tr>\n",
       "    <tr>\n",
       "      <th>14</th>\n",
       "      <td>Chicken, boiled, feet</td>\n",
       "      <td>900.0</td>\n",
       "      <td>food</td>\n",
       "      <td>5.0</td>\n",
       "      <td>0.0</td>\n",
       "      <td>High</td>\n",
       "    </tr>\n",
       "    <tr>\n",
       "      <th>15</th>\n",
       "      <td>Quail, raw, meat only</td>\n",
       "      <td>561.0</td>\n",
       "      <td>food</td>\n",
       "      <td>2.0</td>\n",
       "      <td>-3.0</td>\n",
       "      <td>Highest</td>\n",
       "    </tr>\n",
       "    <tr>\n",
       "      <th>16</th>\n",
       "      <td>Pie, lemon, fried pies</td>\n",
       "      <td>1322.0</td>\n",
       "      <td>fruits</td>\n",
       "      <td>9.0</td>\n",
       "      <td>0.0</td>\n",
       "      <td>High</td>\n",
       "    </tr>\n",
       "    <tr>\n",
       "      <th>17</th>\n",
       "      <td>Peppers, raw, jalapeno</td>\n",
       "      <td>121.0</td>\n",
       "      <td>food</td>\n",
       "      <td>0.0</td>\n",
       "      <td>-4.0</td>\n",
       "      <td>Highest</td>\n",
       "    </tr>\n",
       "    <tr>\n",
       "      <th>18</th>\n",
       "      <td>Winged bean tuber, raw</td>\n",
       "      <td>619.0</td>\n",
       "      <td>legumes</td>\n",
       "      <td>1.0</td>\n",
       "      <td>-9.0</td>\n",
       "      <td>Highest</td>\n",
       "    </tr>\n",
       "    <tr>\n",
       "      <th>19</th>\n",
       "      <td>Salami, turkey, cooked</td>\n",
       "      <td>720.0</td>\n",
       "      <td>food</td>\n",
       "      <td>14.0</td>\n",
       "      <td>14.0</td>\n",
       "      <td>Low</td>\n",
       "    </tr>\n",
       "  </tbody>\n",
       "</table>\n",
       "</div>"
      ],
      "text/plain": [
       "                      name  Energy (kJ) category  points_a  NutriScore  \\\n",
       "10     PACE, Picante Sauce        105.0     food       9.0         4.0   \n",
       "11     Goji berries, dried       1460.0     food      17.0        12.0   \n",
       "12    Mango nectar, canned        213.0   fruits       2.0        -3.0   \n",
       "13    Crackers, rusk toast       1703.0     food       8.0         3.0   \n",
       "14   Chicken, boiled, feet        900.0     food       5.0         0.0   \n",
       "15   Quail, raw, meat only        561.0     food       2.0        -3.0   \n",
       "16  Pie, lemon, fried pies       1322.0   fruits       9.0         0.0   \n",
       "17  Peppers, raw, jalapeno        121.0     food       0.0        -4.0   \n",
       "18  Winged bean tuber, raw        619.0  legumes       1.0        -9.0   \n",
       "19  Salami, turkey, cooked        720.0     food      14.0        14.0   \n",
       "\n",
       "   NutriRank  \n",
       "10    Medium  \n",
       "11       Low  \n",
       "12   Highest  \n",
       "13    Medium  \n",
       "14      High  \n",
       "15   Highest  \n",
       "16      High  \n",
       "17   Highest  \n",
       "18   Highest  \n",
       "19       Low  "
      ]
     },
     "execution_count": 67,
     "metadata": {},
     "output_type": "execute_result"
    }
   ],
   "source": [
    "# Check NutriRank Column \n",
    "test_category_food[['name','Energy (kJ)','category','points_a','NutriScore','NutriRank']][10:20]"
   ]
  },
  {
   "cell_type": "code",
   "execution_count": 68,
   "id": "91f7f51b",
   "metadata": {},
   "outputs": [],
   "source": [
    "# Define NutriRankNumber # Not use\n",
    "def defineNutriRANKnumber(rank):\n",
    "    rank_number = 0\n",
    "    if rank == 'Highest': rank_number = 4\n",
    "    if rank == 'High': rank_number = 3\n",
    "    if rank == 'Medium': rank_number = 2\n",
    "    if rank == 'Low': rank_number = 1\n",
    "    if rank == 'Lowest': rank_number = 0\n",
    "    return rank_number\n",
    "test_category_food['NutriRank(number)'] = test_category_food.apply(lambda x: defineNutriRANKnumber(x['NutriRank']), axis=1)"
   ]
  },
  {
   "cell_type": "code",
   "execution_count": 69,
   "id": "98860d29",
   "metadata": {},
   "outputs": [],
   "source": [
    "# Plot bar chart to compare nutrion value for each nutrient group\n",
    "\n",
    "def checkNutrient(rank_array,ranker,selected_value,category):\n",
    "    ind = np.arange(len(rank_array))  \n",
    "    width = 0.2      \n",
    "    total_value = [[0] * len(rank_array) for i in range(len(rank_array[0]))]\n",
    "    rects = np.zeros_like(total_value).astype(object)\n",
    "    bar_color = ['r','g','b','y']\n",
    "    \n",
    "    fig = plt.figure(figsize=(12, 5.5))\n",
    "    ax = fig.add_subplot(111)\n",
    "\n",
    "    for i in range(len(rank_array[0])):\n",
    "        total_value[i] = [np.round(val[i],1) for val in rank_array]\n",
    "    \n",
    "    for i,val in enumerate(total_value): \n",
    "        rects[i] = ax.bar(ind + (i*width), val, width, color=bar_color[i])\n",
    "    \n",
    "    if(category == 'calories'): \n",
    "        ax.set_ylabel('Calories')\n",
    "        plt.title(\"Mean of Calories by nutrient rank\")\n",
    "        \n",
    "    if(category == 'nutrient'): \n",
    "        ax.set_ylabel('Grams (g)')\n",
    "        plt.title(\"Mean of Macronutrients by nutrient rank\")    \n",
    "     \n",
    "    if(category == 'minerals'): \n",
    "        ax.set_ylabel('MilliGrams (mg)')\n",
    "        plt.title(\"Mean of Minerals by nutrient rank\")    \n",
    "        \n",
    "    if(category == 'vitamins'):\n",
    "        ax.set_ylabel('vitamin[B12(mcg), C(mg), D(IU), E(mg)]')\n",
    "        plt.title(\"Mean of Vitamins by nutrient rank\")   \n",
    "        \n",
    "    ax.set_xticks(ind+width)\n",
    "    ax.set_xticklabels([rank for rank in ranker])        \n",
    "    ax.legend(([rec[0] for rec in rects]), ([sel for sel in selected_value]),loc='upper left')\n",
    "    \n",
    "    for j in range(len(rects)):\n",
    "        for rec in rects[j]:\n",
    "            h = rec.get_height()\n",
    "            ax.text(rec.get_x()+rec.get_width()/2. +(0.0), 1.02*h, '%.2f'%h,\n",
    "                    ha='center', va='bottom')    \n",
    "\n",
    "    plt.ylim(0, np.max(rank_array) + (0.1*np.max(rank_array)))\n",
    "    plt.xlabel(\"Nutrient Rank\")"
   ]
  },
  {
   "cell_type": "markdown",
   "id": "9548a4d6",
   "metadata": {},
   "source": [
    "## Calories for each nutrient group\n",
    "As it can see that the highest nutrient group has less calories than other group, while calories start to increase toward lowest nutrient group."
   ]
  },
  {
   "cell_type": "code",
   "execution_count": 70,
   "id": "3c84cd27",
   "metadata": {},
   "outputs": [
    {
     "data": {
      "image/png": "[encoded data removed]",
      "text/plain": [
       "<Figure size 1200x550 with 1 Axes>"
      ]
     },
     "metadata": {},
     "output_type": "display_data"
    }
   ],
   "source": [
    "# Select the mean statistic for each nutrient group to compare\n",
    "\n",
    "ranker = ['Highest','High','Medium','Low','Lowest']\n",
    "selected_value_0 = ['calories']\n",
    "rank_value_0 = []\n",
    "for r in ranker:\n",
    "    rank_value_0.append(test_category_food[selected_value_0][(test_category_food['NutriRank'] == r)].mean(axis=0,numeric_only=True))\n",
    "rank_value_0_array = np.asarray(rank_value_0)\n",
    "    \n",
    "checkNutrient(rank_value_0_array,ranker,selected_value_0,'calories')"
   ]
  },
  {
   "cell_type": "markdown",
   "id": "28bbda6b",
   "metadata": {},
   "source": [
    "## Macronutrients for each nutrient group\n",
    "Fat, Protein, Carbohydrate are the main nutrient in every foods.\n",
    "\n",
    "The graph show that Highest and High nutrient group have balance in protein and carbohydrate with low fat.\n",
    "While Low and Lowest nutrient group have high in fat and carboyhydrate."
   ]
  },
  {
   "cell_type": "code",
   "execution_count": 71,
   "id": "70e98bad",
   "metadata": {},
   "outputs": [
    {
     "data": {
      "image/png": "[encoded data removed]",
      "text/plain": [
       "<Figure size 1200x550 with 1 Axes>"
      ]
     },
     "metadata": {},
     "output_type": "display_data"
    }
   ],
   "source": [
    "selected_value_1 = ['total_fat','protein','carbohydrate'] \n",
    "rank_value_1 = []\n",
    "for r in ranker:\n",
    "    rank_value_1.append(test_category_food[selected_value_1][(test_category_food['NutriRank'] == r)].mean(axis=0,numeric_only=True))\n",
    "rank_value_1_array = np.asarray(rank_value_1)\n",
    "    \n",
    "checkNutrient(rank_value_1_array,ranker,selected_value_1,'nutrient')"
   ]
  },
  {
   "cell_type": "markdown",
   "id": "3f5d445a",
   "metadata": {},
   "source": [
    "## Macronutrients for each nutrient group\n",
    "Fiber, Sugars, Saturated_fat are the m\n",
    "Fibers cannot broke down to sugar molecule which pereceive as healthy indicator. \n",
    "while high sugars could increase blood sugard associate with diabetes.\n",
    "As saturated fat is associated with raised levels of non-HDL(bad).\n",
    "\n",
    "The graph show that Sugars and Saturated fat trend are increased when move toward medium, low, and lowest nutrient group."
   ]
  },
  {
   "cell_type": "code",
   "execution_count": 72,
   "id": "e4d1b91a",
   "metadata": {},
   "outputs": [
    {
     "data": {
      "image/png": "[encoded data removed]",
      "text/plain": [
       "<Figure size 1200x550 with 1 Axes>"
      ]
     },
     "metadata": {},
     "output_type": "display_data"
    }
   ],
   "source": [
    "selected_value_f = ['fiber','sugars','saturated_fat'] \n",
    "rank_value_f = []\n",
    "for r in ranker:\n",
    "    rank_value_f.append(test_category_food[selected_value_f][(test_category_food['NutriRank'] == r)].mean(axis=0,numeric_only=True))\n",
    "rank_value_f_array = np.asarray(rank_value_f)\n",
    "    \n",
    "checkNutrient(rank_value_f_array,ranker,selected_value_f,'nutrient')"
   ]
  },
  {
   "cell_type": "markdown",
   "id": "a57b960a",
   "metadata": {},
   "source": [
    "## Minerals for each nutrient group\n",
    "The graph show that Nutrient groups that contain high in sodium are Medium, Low, Lowest groups. \n",
    "\n",
    "As processd foods contain high sodium, so these group may contain those process foods.\n",
    "\n",
    "While high potassium food come from fruits and vegetables as it likely to be in highest nutrient group."
   ]
  },
  {
   "cell_type": "code",
   "execution_count": 73,
   "id": "b25eb279",
   "metadata": {},
   "outputs": [
    {
     "data": {
      "image/png": "[encoded data removed]",
      "text/plain": [
       "<Figure size 1200x550 with 1 Axes>"
      ]
     },
     "metadata": {},
     "output_type": "display_data"
    }
   ],
   "source": [
    "selected_value_2 = ['sodium', 'calcium', 'potassium', 'phosphorous']\n",
    "#['sodium','fiber','vitamin_a','vitamin_c','NutriRank']\n",
    "\n",
    "rank_value_2 = []\n",
    "for r in ranker:\n",
    "    rank_value_2.append(test_category_food[selected_value_2][(test_category_food['NutriRank'] == r)].mean(axis=0,numeric_only=True))\n",
    "rank_value_2_array = np.asarray(rank_value_2)\n",
    "    \n",
    "checkNutrient(rank_value_2_array,ranker,selected_value_2,'minerals')"
   ]
  },
  {
   "cell_type": "markdown",
   "id": "926ea797",
   "metadata": {},
   "source": [
    "## Minerals for each nutrient group\n",
    "Minerals like copper, iron, zinc, manganese aren't show any different in value between nutrient group."
   ]
  },
  {
   "cell_type": "code",
   "execution_count": 74,
   "id": "4ac77706",
   "metadata": {},
   "outputs": [
    {
     "data": {
      "image/png": "[encoded data removed]",
      "text/plain": [
       "<Figure size 1200x550 with 1 Axes>"
      ]
     },
     "metadata": {},
     "output_type": "display_data"
    }
   ],
   "source": [
    "selected_value_3 = ['copper', 'iron', 'zinc', 'manganese']\n",
    "\n",
    "rank_value_3 = []\n",
    "for r in ranker:\n",
    "    rank_value_3.append(test_category_food[selected_value_3][(test_category_food['NutriRank'] == r)].mean(axis=0,numeric_only=True))\n",
    "rank_value_3_array = np.asarray(rank_value_3)\n",
    "    \n",
    "checkNutrient(rank_value_3_array,ranker,selected_value_3,'minerals')"
   ]
  },
  {
   "cell_type": "markdown",
   "id": "a21fef18",
   "metadata": {},
   "source": [
    "## Vitamins for each nutrient group\n",
    "\n",
    "The following vitamins have different units while the result doesn't show much different except for vitaminD in Lowest nutrient group, which likely came from high fat foods."
   ]
  },
  {
   "cell_type": "code",
   "execution_count": 75,
   "id": "207e6b1e",
   "metadata": {},
   "outputs": [
    {
     "data": {
      "image/png": "[encoded data removed]",
      "text/plain": [
       "<Figure size 1200x550 with 1 Axes>"
      ]
     },
     "metadata": {},
     "output_type": "display_data"
    }
   ],
   "source": [
    "selected_value_4 = ['vitamin_b12', 'vitamin_c', 'vitamin_d', 'vitamin_e']\n",
    "\n",
    "rank_value_4 = []\n",
    "for r in ranker:\n",
    "    rank_value_4.append(test_category_food[selected_value_4][(test_category_food['NutriRank'] == r)].mean(axis=0,numeric_only=True))\n",
    "rank_value_4_array = np.asarray(rank_value_4)\n",
    "    \n",
    "checkNutrient(rank_value_4_array,ranker,selected_value_4,'vitamins')"
   ]
  },
  {
   "cell_type": "code",
   "execution_count": 76,
   "id": "bf04d584",
   "metadata": {},
   "outputs": [],
   "source": [
    "# Sample food from each nutrient group\n",
    "\n",
    "import random\n",
    "\n",
    "sample = []\n",
    "\n",
    "for r in ranker:\n",
    "    sample.append(np.random.choice(test_category_food[selected_value_4][(test_category_food['NutriRank'] == r)].index, size=5, replace=False))\n",
    "    \n",
    "sample_array = np.asarray(sample)"
   ]
  },
  {
   "cell_type": "code",
   "execution_count": 77,
   "id": "f3e49211",
   "metadata": {},
   "outputs": [
    {
     "data": {
      "text/html": [
       "<div>\n",
       "<style scoped>\n",
       "    .dataframe tbody tr th:only-of-type {\n",
       "        vertical-align: middle;\n",
       "    }\n",
       "\n",
       "    .dataframe tbody tr th {\n",
       "        vertical-align: top;\n",
       "    }\n",
       "\n",
       "    .dataframe thead th {\n",
       "        text-align: right;\n",
       "    }\n",
       "</style>\n",
       "<table border=\"1\" class=\"dataframe\">\n",
       "  <thead>\n",
       "    <tr style=\"text-align: right;\">\n",
       "      <th></th>\n",
       "      <th>name</th>\n",
       "      <th>NutriRank</th>\n",
       "      <th>category</th>\n",
       "      <th>calories</th>\n",
       "      <th>total_fat</th>\n",
       "      <th>protein</th>\n",
       "      <th>carbohydrate</th>\n",
       "      <th>sugars</th>\n",
       "      <th>fiber</th>\n",
       "      <th>sodium</th>\n",
       "      <th>potassium</th>\n",
       "      <th>points_a</th>\n",
       "      <th>NutriScore</th>\n",
       "      <th>FVLN (%)</th>\n",
       "    </tr>\n",
       "  </thead>\n",
       "  <tbody>\n",
       "    <tr>\n",
       "      <th>6833</th>\n",
       "      <td>Fast foods, turkey breast on white bread with ...</td>\n",
       "      <td>Highest</td>\n",
       "      <td>vegetables</td>\n",
       "      <td>147</td>\n",
       "      <td>2.3</td>\n",
       "      <td>9.12</td>\n",
       "      <td>22.42</td>\n",
       "      <td>3.09</td>\n",
       "      <td>1.3</td>\n",
       "      <td>317.0</td>\n",
       "      <td>253.0</td>\n",
       "      <td>4.0</td>\n",
       "      <td>-7.0</td>\n",
       "      <td>&gt;80</td>\n",
       "    </tr>\n",
       "    <tr>\n",
       "      <th>6314</th>\n",
       "      <td>Game meat, raw, trimmed to 0\" fat, separable l...</td>\n",
       "      <td>Highest</td>\n",
       "      <td>food</td>\n",
       "      <td>116</td>\n",
       "      <td>2.4</td>\n",
       "      <td>22.10</td>\n",
       "      <td>0.00</td>\n",
       "      <td>0.00</td>\n",
       "      <td>0.0</td>\n",
       "      <td>48.0</td>\n",
       "      <td>344.0</td>\n",
       "      <td>1.0</td>\n",
       "      <td>-4.0</td>\n",
       "      <td>&lt;=40</td>\n",
       "    </tr>\n",
       "    <tr>\n",
       "      <th>6786</th>\n",
       "      <td>Fish, drained solids, without salt, canned in ...</td>\n",
       "      <td>Highest</td>\n",
       "      <td>food</td>\n",
       "      <td>128</td>\n",
       "      <td>3.0</td>\n",
       "      <td>23.62</td>\n",
       "      <td>0.00</td>\n",
       "      <td>0.00</td>\n",
       "      <td>0.0</td>\n",
       "      <td>50.0</td>\n",
       "      <td>237.0</td>\n",
       "      <td>1.0</td>\n",
       "      <td>-4.0</td>\n",
       "      <td>&lt;=40</td>\n",
       "    </tr>\n",
       "    <tr>\n",
       "      <th>5143</th>\n",
       "      <td>Pork, raw, separable lean only, whole, leg (ha...</td>\n",
       "      <td>Highest</td>\n",
       "      <td>food</td>\n",
       "      <td>136</td>\n",
       "      <td>5.4</td>\n",
       "      <td>20.48</td>\n",
       "      <td>0.00</td>\n",
       "      <td>0.00</td>\n",
       "      <td>0.0</td>\n",
       "      <td>55.0</td>\n",
       "      <td>369.0</td>\n",
       "      <td>2.0</td>\n",
       "      <td>-3.0</td>\n",
       "      <td>&lt;=40</td>\n",
       "    </tr>\n",
       "    <tr>\n",
       "      <th>5716</th>\n",
       "      <td>Fish, canned (Alaska Native), kippered, chinoo...</td>\n",
       "      <td>Highest</td>\n",
       "      <td>food</td>\n",
       "      <td>266</td>\n",
       "      <td>16.0</td>\n",
       "      <td>30.70</td>\n",
       "      <td>0.00</td>\n",
       "      <td>0.00</td>\n",
       "      <td>0.0</td>\n",
       "      <td>0.0</td>\n",
       "      <td>0.0</td>\n",
       "      <td>3.0</td>\n",
       "      <td>-2.0</td>\n",
       "      <td>&lt;=40</td>\n",
       "    </tr>\n",
       "  </tbody>\n",
       "</table>\n",
       "</div>"
      ],
      "text/plain": [
       "                                                   name NutriRank    category  \\\n",
       "6833  Fast foods, turkey breast on white bread with ...   Highest  vegetables   \n",
       "6314  Game meat, raw, trimmed to 0\" fat, separable l...   Highest        food   \n",
       "6786  Fish, drained solids, without salt, canned in ...   Highest        food   \n",
       "5143  Pork, raw, separable lean only, whole, leg (ha...   Highest        food   \n",
       "5716  Fish, canned (Alaska Native), kippered, chinoo...   Highest        food   \n",
       "\n",
       "      calories  total_fat  protein  carbohydrate  sugars  fiber  sodium  \\\n",
       "6833       147        2.3     9.12         22.42    3.09    1.3   317.0   \n",
       "6314       116        2.4    22.10          0.00    0.00    0.0    48.0   \n",
       "6786       128        3.0    23.62          0.00    0.00    0.0    50.0   \n",
       "5143       136        5.4    20.48          0.00    0.00    0.0    55.0   \n",
       "5716       266       16.0    30.70          0.00    0.00    0.0     0.0   \n",
       "\n",
       "      potassium  points_a  NutriScore FVLN (%)  \n",
       "6833      253.0       4.0        -7.0      >80  \n",
       "6314      344.0       1.0        -4.0     <=40  \n",
       "6786      237.0       1.0        -4.0     <=40  \n",
       "5143      369.0       2.0        -3.0     <=40  \n",
       "5716        0.0       3.0        -2.0     <=40  "
      ]
     },
     "execution_count": 77,
     "metadata": {},
     "output_type": "execute_result"
    }
   ],
   "source": [
    "test_category_food.loc[sample_array[0]][['name','NutriRank','category','calories','total_fat','protein','carbohydrate','sugars','fiber','sodium','potassium','points_a','NutriScore','FVLN (%)']]"
   ]
  },
  {
   "cell_type": "code",
   "execution_count": 78,
   "id": "c2d32297",
   "metadata": {},
   "outputs": [
    {
     "data": {
      "text/html": [
       "<div>\n",
       "<style scoped>\n",
       "    .dataframe tbody tr th:only-of-type {\n",
       "        vertical-align: middle;\n",
       "    }\n",
       "\n",
       "    .dataframe tbody tr th {\n",
       "        vertical-align: top;\n",
       "    }\n",
       "\n",
       "    .dataframe thead th {\n",
       "        text-align: right;\n",
       "    }\n",
       "</style>\n",
       "<table border=\"1\" class=\"dataframe\">\n",
       "  <thead>\n",
       "    <tr style=\"text-align: right;\">\n",
       "      <th></th>\n",
       "      <th>name</th>\n",
       "      <th>NutriRank</th>\n",
       "      <th>category</th>\n",
       "      <th>calories</th>\n",
       "      <th>total_fat</th>\n",
       "      <th>protein</th>\n",
       "      <th>carbohydrate</th>\n",
       "      <th>sugars</th>\n",
       "      <th>fiber</th>\n",
       "      <th>sodium</th>\n",
       "      <th>potassium</th>\n",
       "      <th>points_a</th>\n",
       "      <th>NutriScore</th>\n",
       "      <th>FVLN (%)</th>\n",
       "    </tr>\n",
       "  </thead>\n",
       "  <tbody>\n",
       "    <tr>\n",
       "      <th>4126</th>\n",
       "      <td>KEEBLER, bite size, Pecan Shortbread Cookies, ...</td>\n",
       "      <td>Low</td>\n",
       "      <td>nuts</td>\n",
       "      <td>547</td>\n",
       "      <td>33.0</td>\n",
       "      <td>5.00</td>\n",
       "      <td>58.70</td>\n",
       "      <td>22.50</td>\n",
       "      <td>1.6</td>\n",
       "      <td>333.0</td>\n",
       "      <td>79.0</td>\n",
       "      <td>22.0</td>\n",
       "      <td>18.0</td>\n",
       "      <td>&gt;60</td>\n",
       "    </tr>\n",
       "    <tr>\n",
       "      <th>5773</th>\n",
       "      <td>KEEBLER, Reduced Fat, Pretzel Crackers, FLIPSI...</td>\n",
       "      <td>Low</td>\n",
       "      <td>food</td>\n",
       "      <td>450</td>\n",
       "      <td>16.0</td>\n",
       "      <td>7.20</td>\n",
       "      <td>70.40</td>\n",
       "      <td>7.50</td>\n",
       "      <td>2.3</td>\n",
       "      <td>1288.0</td>\n",
       "      <td>108.0</td>\n",
       "      <td>18.0</td>\n",
       "      <td>15.0</td>\n",
       "      <td>&lt;=40</td>\n",
       "    </tr>\n",
       "    <tr>\n",
       "      <th>1575</th>\n",
       "      <td>USDA Commodity, Flour Mix, Bakery</td>\n",
       "      <td>Low</td>\n",
       "      <td>food</td>\n",
       "      <td>400</td>\n",
       "      <td>13.0</td>\n",
       "      <td>8.47</td>\n",
       "      <td>62.53</td>\n",
       "      <td>0.00</td>\n",
       "      <td>7.1</td>\n",
       "      <td>1410.0</td>\n",
       "      <td>124.0</td>\n",
       "      <td>17.0</td>\n",
       "      <td>12.0</td>\n",
       "      <td>&lt;=40</td>\n",
       "    </tr>\n",
       "    <tr>\n",
       "      <th>4409</th>\n",
       "      <td>Cereals, dry, Banana Bread, Instant Oatmeal, Q...</td>\n",
       "      <td>Low</td>\n",
       "      <td>fruits</td>\n",
       "      <td>368</td>\n",
       "      <td>4.9</td>\n",
       "      <td>8.97</td>\n",
       "      <td>75.70</td>\n",
       "      <td>29.45</td>\n",
       "      <td>6.7</td>\n",
       "      <td>700.0</td>\n",
       "      <td>287.0</td>\n",
       "      <td>17.0</td>\n",
       "      <td>11.0</td>\n",
       "      <td>&gt;40</td>\n",
       "    </tr>\n",
       "    <tr>\n",
       "      <th>708</th>\n",
       "      <td>Seeds, high-fat, sesame flour</td>\n",
       "      <td>Low</td>\n",
       "      <td>food</td>\n",
       "      <td>526</td>\n",
       "      <td>37.0</td>\n",
       "      <td>30.78</td>\n",
       "      <td>26.62</td>\n",
       "      <td>0.00</td>\n",
       "      <td>0.0</td>\n",
       "      <td>41.0</td>\n",
       "      <td>423.0</td>\n",
       "      <td>11.0</td>\n",
       "      <td>11.0</td>\n",
       "      <td>&lt;=40</td>\n",
       "    </tr>\n",
       "  </tbody>\n",
       "</table>\n",
       "</div>"
      ],
      "text/plain": [
       "                                                   name NutriRank category  \\\n",
       "4126  KEEBLER, bite size, Pecan Shortbread Cookies, ...       Low     nuts   \n",
       "5773  KEEBLER, Reduced Fat, Pretzel Crackers, FLIPSI...       Low     food   \n",
       "1575                  USDA Commodity, Flour Mix, Bakery       Low     food   \n",
       "4409  Cereals, dry, Banana Bread, Instant Oatmeal, Q...       Low   fruits   \n",
       "708                       Seeds, high-fat, sesame flour       Low     food   \n",
       "\n",
       "      calories  total_fat  protein  carbohydrate  sugars  fiber  sodium  \\\n",
       "4126       547       33.0     5.00         58.70   22.50    1.6   333.0   \n",
       "5773       450       16.0     7.20         70.40    7.50    2.3  1288.0   \n",
       "1575       400       13.0     8.47         62.53    0.00    7.1  1410.0   \n",
       "4409       368        4.9     8.97         75.70   29.45    6.7   700.0   \n",
       "708        526       37.0    30.78         26.62    0.00    0.0    41.0   \n",
       "\n",
       "      potassium  points_a  NutriScore FVLN (%)  \n",
       "4126       79.0      22.0        18.0      >60  \n",
       "5773      108.0      18.0        15.0     <=40  \n",
       "1575      124.0      17.0        12.0     <=40  \n",
       "4409      287.0      17.0        11.0      >40  \n",
       "708       423.0      11.0        11.0     <=40  "
      ]
     },
     "execution_count": 78,
     "metadata": {},
     "output_type": "execute_result"
    }
   ],
   "source": [
    "test_category_food.loc[sample_array[3]][['name','NutriRank','category','calories','total_fat','protein','carbohydrate','sugars','fiber','sodium','potassium','points_a','NutriScore','FVLN (%)']]"
   ]
  },
  {
   "cell_type": "markdown",
   "id": "31951854",
   "metadata": {},
   "source": [
    "## Explore further on different model in building Classification model based on label of nutrient quality to predict any food with nutrient label "
   ]
  },
  {
   "cell_type": "code",
   "execution_count": 79,
   "id": "77c6fddd",
   "metadata": {},
   "outputs": [
    {
     "data": {
      "text/plain": [
       "NutriRank(number)\n",
       "0     9.523268\n",
       "1    17.817727\n",
       "2    18.591421\n",
       "3    18.181818\n",
       "4    35.885766\n",
       "Name: name, dtype: float64"
      ]
     },
     "execution_count": 79,
     "metadata": {},
     "output_type": "execute_result"
    }
   ],
   "source": [
    "# Check percentage of each to decide wheather dataset is imbalance or need sampling\n",
    "test_category_food.groupby('NutriRank(number)').count()['name'] * 100 / 8789"
   ]
  },
  {
   "cell_type": "markdown",
   "id": "0e47fee4",
   "metadata": {},
   "source": [
    "#### Only classes with lowest and highest nutrient rank that has low/high than the rest which is not in extrem imbalance case"
   ]
  },
  {
   "cell_type": "code",
   "execution_count": 47,
   "id": "d3719852",
   "metadata": {},
   "outputs": [
    {
     "data": {
      "image/png": "[encoded data removed]",
      "text/plain": [
       "<Figure size 640x480 with 1 Axes>"
      ]
     },
     "metadata": {},
     "output_type": "display_data"
    }
   ],
   "source": [
    "plt.hist(test_category_food['NutriRank(number)'], bins=5)\n",
    "plt.xlim(-1,5)\n",
    "plt.title(\"Statistic of classes in Nutri Rank\")\n",
    "plt.xlabel(\"Nutri Rank\")\n",
    "plt.ylabel(\"Amount\")\n",
    "plt.show()"
   ]
  },
  {
   "cell_type": "markdown",
   "id": "65b4fb99",
   "metadata": {},
   "source": [
    "### First Model to explore is deep learning"
   ]
  },
  {
   "cell_type": "code",
   "execution_count": 356,
   "id": "068352a0",
   "metadata": {},
   "outputs": [],
   "source": [
    "from keras.models import Sequential\n",
    "from keras.layers import Dense, Dropout\n",
    "from keras.utils import np_utils\n",
    "from scikeras.wrappers import KerasClassifier\n",
    "\n",
    "from sklearn.model_selection import train_test_split\n",
    "from sklearn.model_selection import GridSearchCV\n",
    "from sklearn.model_selection import cross_val_score\n",
    "from sklearn.model_selection import KFold\n",
    "from sklearn.preprocessing import LabelEncoder\n",
    "from sklearn.pipeline import Pipeline"
   ]
  },
  {
   "cell_type": "markdown",
   "id": "4af5c6f2",
   "metadata": {},
   "source": [
    "#### Select input feature by choosing only nutrients that important from graph bar analyze above"
   ]
  },
  {
   "cell_type": "code",
   "execution_count": 210,
   "id": "d336650f",
   "metadata": {},
   "outputs": [
    {
     "data": {
      "text/plain": [
       "array([[0., 0., 0., 0., 1.],\n",
       "       [0., 0., 0., 0., 1.],\n",
       "       [0., 0., 0., 0., 1.],\n",
       "       ...,\n",
       "       [0., 1., 0., 0., 0.],\n",
       "       [0., 0., 0., 0., 1.],\n",
       "       [0., 0., 0., 0., 1.]], dtype=float32)"
      ]
     },
     "execution_count": 210,
     "metadata": {},
     "output_type": "execute_result"
    }
   ],
   "source": [
    "SEED = 7\n",
    "\n",
    "feature_selection = ['calories','total_fat','protein','carbohydrate','sugars','fiber','saturated_fat','sodium','potassium','NutriRank(number)']\n",
    "test_multi_clf_df = test_category_food[feature_selection].copy()\n",
    "\n",
    "# Not using any scaler as model need to find relation on real nutrient value and rank\n",
    "#X = StandardScaler().fit_transform(test_multi_clf_df[feature_selection[:-1]])\n",
    "X = test_multi_clf_df[feature_selection[:-1]]\n",
    "\n",
    "# Encode class values for one-hot-encoding in deep learning multi-class\n",
    "encoder = LabelEncoder()\n",
    "y_en = encoder.fit_transform(test_multi_clf_df[feature_selection[-1]])\n",
    "y = np_utils.to_categorical(y_en)\n",
    "y"
   ]
  },
  {
   "cell_type": "code",
   "execution_count": 217,
   "id": "8ff361e4",
   "metadata": {},
   "outputs": [],
   "source": [
    "X_train, X_test, y_train, y_test = train_test_split(X, y, test_size=0.2, random_state=SEED)"
   ]
  },
  {
   "cell_type": "code",
   "execution_count": 402,
   "id": "5ff0e7c1",
   "metadata": {},
   "outputs": [],
   "source": [
    "# Base model before tunning\n",
    "def base_model():\n",
    "    model = Sequential()\n",
    "    model.add(Dense(20, input_dim=9, activation='relu'))\n",
    "    model.add(Dense(40, input_dim=9, activation='sigmoid'))\n",
    "    model.add(Dense(5, activation='softmax'))\n",
    "    model.compile(loss='categorical_crossentropy', optimizer='Adam', metrics=['accuracy'])\n",
    "    return model"
   ]
  },
  {
   "cell_type": "code",
   "execution_count": 403,
   "id": "8248ac10",
   "metadata": {},
   "outputs": [
    {
     "name": "stdout",
     "output_type": "stream",
     "text": [
      "Epoch 1/100\n",
      "352/352 [==============================] - 1s 2ms/step - loss: 1.3587 - accuracy: 0.4418 - val_loss: 1.2838 - val_accuracy: 0.4881\n",
      "Epoch 2/100\n",
      "352/352 [==============================] - 1s 2ms/step - loss: 1.2496 - accuracy: 0.4992 - val_loss: 1.2246 - val_accuracy: 0.5068\n",
      "Epoch 3/100\n",
      "352/352 [==============================] - 1s 2ms/step - loss: 1.1933 - accuracy: 0.5204 - val_loss: 1.1509 - val_accuracy: 0.5404\n",
      "Epoch 4/100\n",
      "352/352 [==============================] - 0s 1ms/step - loss: 1.1304 - accuracy: 0.5449 - val_loss: 1.0879 - val_accuracy: 0.5609\n",
      "Epoch 5/100\n",
      "352/352 [==============================] - 1s 2ms/step - loss: 1.0777 - accuracy: 0.5534 - val_loss: 1.0490 - val_accuracy: 0.5597\n",
      "Epoch 6/100\n",
      "352/352 [==============================] - 1s 1ms/step - loss: 1.0391 - accuracy: 0.5605 - val_loss: 1.0350 - val_accuracy: 0.5882\n",
      "Epoch 7/100\n",
      "352/352 [==============================] - 0s 1ms/step - loss: 1.0157 - accuracy: 0.5810 - val_loss: 0.9994 - val_accuracy: 0.5705\n",
      "Epoch 8/100\n",
      "352/352 [==============================] - 0s 1ms/step - loss: 0.9965 - accuracy: 0.5799 - val_loss: 0.9801 - val_accuracy: 0.6030\n",
      "Epoch 9/100\n",
      "352/352 [==============================] - 0s 1ms/step - loss: 0.9747 - accuracy: 0.5915 - val_loss: 0.9651 - val_accuracy: 0.6138\n",
      "Epoch 10/100\n",
      "352/352 [==============================] - 0s 1ms/step - loss: 0.9649 - accuracy: 0.5966 - val_loss: 0.9624 - val_accuracy: 0.5978\n",
      "Epoch 11/100\n",
      "352/352 [==============================] - 0s 1ms/step - loss: 0.9585 - accuracy: 0.5948 - val_loss: 0.9506 - val_accuracy: 0.5950\n",
      "Epoch 12/100\n",
      "352/352 [==============================] - 1s 2ms/step - loss: 0.9414 - accuracy: 0.5981 - val_loss: 0.9444 - val_accuracy: 0.6024\n",
      "Epoch 13/100\n",
      "352/352 [==============================] - 0s 1ms/step - loss: 0.9360 - accuracy: 0.6107 - val_loss: 0.9381 - val_accuracy: 0.6138\n",
      "Epoch 14/100\n",
      "352/352 [==============================] - 0s 1ms/step - loss: 0.9270 - accuracy: 0.6127 - val_loss: 0.9251 - val_accuracy: 0.6217\n",
      "Epoch 15/100\n",
      "352/352 [==============================] - 0s 1ms/step - loss: 0.9263 - accuracy: 0.6130 - val_loss: 0.9138 - val_accuracy: 0.6166\n",
      "Epoch 16/100\n",
      "352/352 [==============================] - 0s 1ms/step - loss: 0.9131 - accuracy: 0.6191 - val_loss: 0.9351 - val_accuracy: 0.6143\n",
      "Epoch 17/100\n",
      "352/352 [==============================] - 0s 1ms/step - loss: 0.9141 - accuracy: 0.6221 - val_loss: 0.9491 - val_accuracy: 0.6013\n",
      "Epoch 18/100\n",
      "352/352 [==============================] - 0s 1ms/step - loss: 0.9159 - accuracy: 0.6201 - val_loss: 0.9144 - val_accuracy: 0.6382\n",
      "Epoch 19/100\n",
      "352/352 [==============================] - 0s 1ms/step - loss: 0.9037 - accuracy: 0.6269 - val_loss: 0.9010 - val_accuracy: 0.6314\n",
      "Epoch 20/100\n",
      "352/352 [==============================] - 1s 1ms/step - loss: 0.9015 - accuracy: 0.6299 - val_loss: 0.8953 - val_accuracy: 0.6371\n",
      "Epoch 21/100\n",
      "352/352 [==============================] - 1s 2ms/step - loss: 0.8861 - accuracy: 0.6343 - val_loss: 0.8947 - val_accuracy: 0.6308\n",
      "Epoch 22/100\n",
      "352/352 [==============================] - 1s 2ms/step - loss: 0.8777 - accuracy: 0.6396 - val_loss: 0.8877 - val_accuracy: 0.6354\n",
      "Epoch 23/100\n",
      "352/352 [==============================] - 1s 2ms/step - loss: 0.8753 - accuracy: 0.6359 - val_loss: 0.8883 - val_accuracy: 0.6382\n",
      "Epoch 24/100\n",
      "352/352 [==============================] - 1s 1ms/step - loss: 0.8683 - accuracy: 0.6511 - val_loss: 0.8910 - val_accuracy: 0.6422\n",
      "Epoch 25/100\n",
      "352/352 [==============================] - 1s 1ms/step - loss: 0.8696 - accuracy: 0.6413 - val_loss: 0.8664 - val_accuracy: 0.6456\n",
      "Epoch 26/100\n",
      "352/352 [==============================] - 1s 2ms/step - loss: 0.8689 - accuracy: 0.6413 - val_loss: 0.8689 - val_accuracy: 0.6422\n",
      "Epoch 27/100\n",
      "352/352 [==============================] - 1s 1ms/step - loss: 0.8657 - accuracy: 0.6457 - val_loss: 0.8776 - val_accuracy: 0.6433\n",
      "Epoch 28/100\n",
      "352/352 [==============================] - 1s 1ms/step - loss: 0.8708 - accuracy: 0.6382 - val_loss: 0.8792 - val_accuracy: 0.6308\n",
      "Epoch 29/100\n",
      "352/352 [==============================] - 0s 1ms/step - loss: 0.8574 - accuracy: 0.6449 - val_loss: 0.8532 - val_accuracy: 0.6507\n",
      "Epoch 30/100\n",
      "352/352 [==============================] - 0s 1ms/step - loss: 0.8571 - accuracy: 0.6490 - val_loss: 0.8651 - val_accuracy: 0.6462\n",
      "Epoch 31/100\n",
      "352/352 [==============================] - 0s 1ms/step - loss: 0.8472 - accuracy: 0.6524 - val_loss: 0.8602 - val_accuracy: 0.6490\n",
      "Epoch 32/100\n",
      "352/352 [==============================] - 0s 1ms/step - loss: 0.8446 - accuracy: 0.6504 - val_loss: 0.8461 - val_accuracy: 0.6564\n",
      "Epoch 33/100\n",
      "352/352 [==============================] - 0s 1ms/step - loss: 0.8399 - accuracy: 0.6604 - val_loss: 0.8687 - val_accuracy: 0.6530\n",
      "Epoch 34/100\n",
      "352/352 [==============================] - 0s 1ms/step - loss: 0.8490 - accuracy: 0.6513 - val_loss: 0.8470 - val_accuracy: 0.6479\n",
      "Epoch 35/100\n",
      "352/352 [==============================] - 0s 1ms/step - loss: 0.8455 - accuracy: 0.6551 - val_loss: 0.8717 - val_accuracy: 0.6479\n",
      "Epoch 36/100\n",
      "352/352 [==============================] - 0s 1ms/step - loss: 0.8369 - accuracy: 0.6554 - val_loss: 0.8487 - val_accuracy: 0.6542\n",
      "Epoch 37/100\n",
      "352/352 [==============================] - 0s 1ms/step - loss: 0.8383 - accuracy: 0.6550 - val_loss: 0.8402 - val_accuracy: 0.6598\n",
      "Epoch 38/100\n",
      "352/352 [==============================] - 0s 1ms/step - loss: 0.8324 - accuracy: 0.6614 - val_loss: 0.8724 - val_accuracy: 0.6524\n",
      "Epoch 39/100\n",
      "352/352 [==============================] - 0s 1ms/step - loss: 0.8328 - accuracy: 0.6552 - val_loss: 0.8621 - val_accuracy: 0.6462\n",
      "Epoch 40/100\n",
      "352/352 [==============================] - 0s 1ms/step - loss: 0.8265 - accuracy: 0.6599 - val_loss: 0.8395 - val_accuracy: 0.6593\n",
      "Epoch 41/100\n",
      "352/352 [==============================] - 0s 1ms/step - loss: 0.8216 - accuracy: 0.6612 - val_loss: 0.8410 - val_accuracy: 0.6547\n",
      "Epoch 42/100\n",
      "352/352 [==============================] - 0s 1ms/step - loss: 0.8215 - accuracy: 0.6604 - val_loss: 0.8443 - val_accuracy: 0.6553\n",
      "Epoch 43/100\n",
      "352/352 [==============================] - 0s 1ms/step - loss: 0.8222 - accuracy: 0.6567 - val_loss: 0.8411 - val_accuracy: 0.6633\n",
      "Epoch 44/100\n",
      "352/352 [==============================] - 0s 1ms/step - loss: 0.8295 - accuracy: 0.6547 - val_loss: 0.8441 - val_accuracy: 0.6547\n",
      "Epoch 45/100\n",
      "352/352 [==============================] - 0s 1ms/step - loss: 0.8330 - accuracy: 0.6561 - val_loss: 0.8648 - val_accuracy: 0.6314\n",
      "Epoch 46/100\n",
      "352/352 [==============================] - 0s 1ms/step - loss: 0.8232 - accuracy: 0.6588 - val_loss: 0.8350 - val_accuracy: 0.6587\n",
      "Epoch 47/100\n",
      "352/352 [==============================] - 0s 1ms/step - loss: 0.8125 - accuracy: 0.6673 - val_loss: 0.8325 - val_accuracy: 0.6530\n",
      "Epoch 48/100\n",
      "352/352 [==============================] - 0s 1ms/step - loss: 0.8136 - accuracy: 0.6707 - val_loss: 0.8198 - val_accuracy: 0.6604\n",
      "Epoch 49/100\n",
      "352/352 [==============================] - 0s 1ms/step - loss: 0.8061 - accuracy: 0.6710 - val_loss: 0.8278 - val_accuracy: 0.6570\n",
      "Epoch 50/100\n",
      "352/352 [==============================] - 0s 1ms/step - loss: 0.8105 - accuracy: 0.6722 - val_loss: 0.8465 - val_accuracy: 0.6598\n",
      "Epoch 51/100\n",
      "352/352 [==============================] - 1s 2ms/step - loss: 0.8072 - accuracy: 0.6715 - val_loss: 0.8220 - val_accuracy: 0.6570\n",
      "Epoch 52/100\n",
      "352/352 [==============================] - 1s 1ms/step - loss: 0.8065 - accuracy: 0.6679 - val_loss: 0.8153 - val_accuracy: 0.6633\n",
      "Epoch 53/100\n",
      "352/352 [==============================] - 1s 2ms/step - loss: 0.8061 - accuracy: 0.6710 - val_loss: 0.8279 - val_accuracy: 0.6604\n",
      "Epoch 54/100\n",
      "352/352 [==============================] - 1s 2ms/step - loss: 0.7991 - accuracy: 0.6722 - val_loss: 0.8085 - val_accuracy: 0.6610\n",
      "Epoch 55/100\n",
      "352/352 [==============================] - 1s 2ms/step - loss: 0.7913 - accuracy: 0.6763 - val_loss: 0.8110 - val_accuracy: 0.6661\n",
      "Epoch 56/100\n",
      "352/352 [==============================] - 1s 2ms/step - loss: 0.7897 - accuracy: 0.6757 - val_loss: 0.8359 - val_accuracy: 0.6485\n",
      "Epoch 57/100\n",
      "352/352 [==============================] - 0s 1ms/step - loss: 0.7840 - accuracy: 0.6808 - val_loss: 0.8146 - val_accuracy: 0.6735\n"
     ]
    },
    {
     "name": "stdout",
     "output_type": "stream",
     "text": [
      "Epoch 58/100\n",
      "352/352 [==============================] - 0s 1ms/step - loss: 0.7922 - accuracy: 0.6736 - val_loss: 0.8533 - val_accuracy: 0.6485\n",
      "Epoch 59/100\n",
      "352/352 [==============================] - 0s 1ms/step - loss: 0.7879 - accuracy: 0.6764 - val_loss: 0.8103 - val_accuracy: 0.6684\n",
      "Epoch 60/100\n",
      "352/352 [==============================] - 0s 1ms/step - loss: 0.7809 - accuracy: 0.6841 - val_loss: 0.8196 - val_accuracy: 0.6706\n",
      "Epoch 61/100\n",
      "352/352 [==============================] - 0s 1ms/step - loss: 0.7882 - accuracy: 0.6840 - val_loss: 0.8060 - val_accuracy: 0.6792\n",
      "Epoch 62/100\n",
      "352/352 [==============================] - 0s 1ms/step - loss: 0.7829 - accuracy: 0.6813 - val_loss: 0.8024 - val_accuracy: 0.6797\n",
      "Epoch 63/100\n",
      "352/352 [==============================] - 0s 1ms/step - loss: 0.7878 - accuracy: 0.6767 - val_loss: 0.8005 - val_accuracy: 0.6803\n",
      "Epoch 64/100\n",
      "352/352 [==============================] - 0s 1ms/step - loss: 0.7807 - accuracy: 0.6769 - val_loss: 0.8025 - val_accuracy: 0.6741\n",
      "Epoch 65/100\n",
      "352/352 [==============================] - 0s 1ms/step - loss: 0.7742 - accuracy: 0.6838 - val_loss: 0.8068 - val_accuracy: 0.6672\n",
      "Epoch 66/100\n",
      "352/352 [==============================] - 0s 1ms/step - loss: 0.7778 - accuracy: 0.6804 - val_loss: 0.7970 - val_accuracy: 0.6604\n",
      "Epoch 67/100\n",
      "352/352 [==============================] - 1s 1ms/step - loss: 0.7706 - accuracy: 0.6811 - val_loss: 0.8009 - val_accuracy: 0.6729\n",
      "Epoch 68/100\n",
      "352/352 [==============================] - 1s 1ms/step - loss: 0.7750 - accuracy: 0.6820 - val_loss: 0.7971 - val_accuracy: 0.6752\n",
      "Epoch 69/100\n",
      "352/352 [==============================] - 0s 1ms/step - loss: 0.7705 - accuracy: 0.6904 - val_loss: 0.8137 - val_accuracy: 0.6587\n",
      "Epoch 70/100\n",
      "352/352 [==============================] - 0s 1ms/step - loss: 0.7712 - accuracy: 0.6844 - val_loss: 0.7936 - val_accuracy: 0.6826\n",
      "Epoch 71/100\n",
      "352/352 [==============================] - 0s 1ms/step - loss: 0.7683 - accuracy: 0.6850 - val_loss: 0.7765 - val_accuracy: 0.6672\n",
      "Epoch 72/100\n",
      "352/352 [==============================] - 0s 1ms/step - loss: 0.7637 - accuracy: 0.6887 - val_loss: 0.7827 - val_accuracy: 0.6741\n",
      "Epoch 73/100\n",
      "352/352 [==============================] - 0s 1ms/step - loss: 0.7611 - accuracy: 0.6901 - val_loss: 0.8196 - val_accuracy: 0.6581\n",
      "Epoch 74/100\n",
      "352/352 [==============================] - 0s 1ms/step - loss: 0.7600 - accuracy: 0.6909 - val_loss: 0.7869 - val_accuracy: 0.6826\n",
      "Epoch 75/100\n",
      "352/352 [==============================] - 0s 1ms/step - loss: 0.7648 - accuracy: 0.6899 - val_loss: 0.8041 - val_accuracy: 0.6724\n",
      "Epoch 76/100\n",
      "352/352 [==============================] - 1s 1ms/step - loss: 0.7627 - accuracy: 0.6898 - val_loss: 0.7992 - val_accuracy: 0.6695\n",
      "Epoch 77/100\n",
      "352/352 [==============================] - 1s 1ms/step - loss: 0.7647 - accuracy: 0.6887 - val_loss: 0.8011 - val_accuracy: 0.6769\n",
      "Epoch 78/100\n",
      "352/352 [==============================] - 1s 1ms/step - loss: 0.7502 - accuracy: 0.6922 - val_loss: 0.8132 - val_accuracy: 0.6615\n",
      "Epoch 79/100\n",
      "352/352 [==============================] - 1s 1ms/step - loss: 0.7576 - accuracy: 0.6945 - val_loss: 0.7929 - val_accuracy: 0.6758\n",
      "Epoch 80/100\n",
      "352/352 [==============================] - 1s 1ms/step - loss: 0.7584 - accuracy: 0.6872 - val_loss: 0.7913 - val_accuracy: 0.6667\n",
      "Epoch 81/100\n",
      "352/352 [==============================] - 0s 1ms/step - loss: 0.7539 - accuracy: 0.6914 - val_loss: 0.7842 - val_accuracy: 0.6735\n",
      "Epoch 82/100\n",
      "352/352 [==============================] - 0s 1ms/step - loss: 0.7488 - accuracy: 0.6965 - val_loss: 0.7988 - val_accuracy: 0.6735\n",
      "Epoch 83/100\n",
      "352/352 [==============================] - 0s 1ms/step - loss: 0.7492 - accuracy: 0.6914 - val_loss: 0.7869 - val_accuracy: 0.6860\n",
      "Epoch 84/100\n",
      "352/352 [==============================] - 0s 1ms/step - loss: 0.7479 - accuracy: 0.6996 - val_loss: 0.8054 - val_accuracy: 0.6809\n",
      "Epoch 85/100\n",
      "352/352 [==============================] - 1s 1ms/step - loss: 0.7442 - accuracy: 0.6946 - val_loss: 0.7948 - val_accuracy: 0.6735\n",
      "Epoch 86/100\n",
      "352/352 [==============================] - 1s 1ms/step - loss: 0.7488 - accuracy: 0.6918 - val_loss: 0.7806 - val_accuracy: 0.6820\n",
      "Epoch 87/100\n",
      "352/352 [==============================] - 1s 2ms/step - loss: 0.7470 - accuracy: 0.6979 - val_loss: 0.7918 - val_accuracy: 0.6661\n",
      "Epoch 88/100\n",
      "352/352 [==============================] - 0s 1ms/step - loss: 0.7416 - accuracy: 0.6993 - val_loss: 0.7825 - val_accuracy: 0.6724\n",
      "Epoch 89/100\n",
      "352/352 [==============================] - 1s 1ms/step - loss: 0.7463 - accuracy: 0.6962 - val_loss: 0.7834 - val_accuracy: 0.6877\n",
      "Epoch 90/100\n",
      "352/352 [==============================] - 0s 1ms/step - loss: 0.7456 - accuracy: 0.6995 - val_loss: 0.7812 - val_accuracy: 0.6769\n",
      "Epoch 91/100\n",
      "352/352 [==============================] - 0s 1ms/step - loss: 0.7403 - accuracy: 0.7029 - val_loss: 0.7927 - val_accuracy: 0.6752\n",
      "Epoch 92/100\n",
      "352/352 [==============================] - 1s 2ms/step - loss: 0.7382 - accuracy: 0.6976 - val_loss: 0.7900 - val_accuracy: 0.6832\n",
      "Epoch 93/100\n",
      "352/352 [==============================] - 1s 1ms/step - loss: 0.7556 - accuracy: 0.6982 - val_loss: 0.7922 - val_accuracy: 0.6729\n",
      "Epoch 94/100\n",
      "352/352 [==============================] - 1s 2ms/step - loss: 0.7480 - accuracy: 0.6926 - val_loss: 0.7858 - val_accuracy: 0.6695\n",
      "Epoch 95/100\n",
      "352/352 [==============================] - 1s 1ms/step - loss: 0.7330 - accuracy: 0.7013 - val_loss: 0.7795 - val_accuracy: 0.6775\n",
      "Epoch 96/100\n",
      "352/352 [==============================] - 0s 1ms/step - loss: 0.7388 - accuracy: 0.6973 - val_loss: 0.7996 - val_accuracy: 0.6769\n",
      "Epoch 97/100\n",
      "352/352 [==============================] - 0s 1ms/step - loss: 0.7373 - accuracy: 0.6966 - val_loss: 0.7741 - val_accuracy: 0.6934\n",
      "Epoch 98/100\n",
      "352/352 [==============================] - 0s 1ms/step - loss: 0.7293 - accuracy: 0.7043 - val_loss: 0.7865 - val_accuracy: 0.6758\n",
      "Epoch 99/100\n",
      "352/352 [==============================] - 0s 1ms/step - loss: 0.7294 - accuracy: 0.7025 - val_loss: 0.7818 - val_accuracy: 0.6758\n",
      "Epoch 100/100\n",
      "352/352 [==============================] - 0s 1ms/step - loss: 0.7312 - accuracy: 0.7010 - val_loss: 0.7876 - val_accuracy: 0.6797\n"
     ]
    }
   ],
   "source": [
    "model = base_model()\n",
    "train = model.fit(X_train, y_train, epochs=100, \n",
    "                  batch_size=20, verbose=1 ,validation_data=(X_test,y_test))"
   ]
  },
  {
   "cell_type": "code",
   "execution_count": 404,
   "id": "0facf619",
   "metadata": {
    "scrolled": true
   },
   "outputs": [
    {
     "data": {
      "image/png": "[encoded data removed]",
      "text/plain": [
       "<Figure size 640x480 with 1 Axes>"
      ]
     },
     "metadata": {},
     "output_type": "display_data"
    }
   ],
   "source": [
    "# Plot Model loss for base model\n",
    "plt.plot(train.history['loss'], label='train')\n",
    "plt.plot(train.history['val_loss'], label='test')\n",
    "plt.title('Model Loss')\n",
    "plt.xlabel('epochs')\n",
    "plt.ylabel('loss values')\n",
    "plt.legend(loc='upper right')\n",
    "plt.show()"
   ]
  },
  {
   "cell_type": "code",
   "execution_count": 405,
   "id": "45bff3c1",
   "metadata": {},
   "outputs": [],
   "source": [
    "# Tuning params on epochs and batch_size by using gridsearchCV\n",
    "param_grid = {\n",
    "    'epochs': [200,400,1000], \n",
    "    'batch_size': [20,32,50],\n",
    "}\n",
    "\n",
    "model_cv = KerasClassifier(model=base_model, verbose=0)\n",
    "grid = GridSearchCV(estimator=model_cv, n_jobs=-1, verbose=0, cv=5, param_grid=param_grid)\n",
    "grid_cv_model = grid.fit(X_train, y_train)"
   ]
  },
  {
   "cell_type": "code",
   "execution_count": 415,
   "id": "31015f9e",
   "metadata": {},
   "outputs": [
    {
     "name": "stdout",
     "output_type": "stream",
     "text": [
      "Best: 0.726927 Params: {'batch_size': 20, 'epochs': 1000}\n"
     ]
    }
   ],
   "source": [
    "print(\"Best: %f Params: %s\" % (grid_cv_model.best_score_, grid_cv_model.best_params_))\n",
    "# best params batch_size': 20, 'epochs': 1000"
   ]
  },
  {
   "cell_type": "code",
   "execution_count": 406,
   "id": "ea502af9",
   "metadata": {},
   "outputs": [],
   "source": [
    "# Using kfold crossvalidation with best params\n",
    "cv_model = grid_cv_model.best_estimator_\n",
    "kfold = KFold(n_splits=5, shuffle=True)\n",
    "results = cross_val_score(cv_model, X_train, y_train, cv=kfold, scoring='accuracy')"
   ]
  },
  {
   "cell_type": "code",
   "execution_count": 407,
   "id": "57617fe3",
   "metadata": {},
   "outputs": [
    {
     "name": "stdout",
     "output_type": "stream",
     "text": [
      "K-fold Cross Validation accuracy Results:  [0.71855011 0.72332859 0.74893314 0.68847795 0.69487909]\n",
      "K-fold Cross Validation accuracy Results Mean:  0.7148337766562433\n"
     ]
    }
   ],
   "source": [
    "print('K-fold Cross Validation accuracy Results: ', results)\n",
    "print('K-fold Cross Validation accuracy Results Mean: ', results.mean())"
   ]
  },
  {
   "cell_type": "code",
   "execution_count": 408,
   "id": "7a0d962d",
   "metadata": {},
   "outputs": [],
   "source": [
    "kfold = KFold(n_splits=5, shuffle=True)\n",
    "results = cross_val_score(cv_model, X_train, y_train, cv=kfold, scoring='f1_weighted')"
   ]
  },
  {
   "cell_type": "code",
   "execution_count": 409,
   "id": "55288037",
   "metadata": {},
   "outputs": [
    {
     "name": "stdout",
     "output_type": "stream",
     "text": [
      "K-fold Cross Validation f1_weighted Results:  [0.71128305 0.69277171 0.71853335 0.73464459 0.72185821]\n",
      "K-fold Cross Validation f1_weighted Results Mean:  0.7158181825043444\n"
     ]
    }
   ],
   "source": [
    "print('K-fold Cross Validation f1_weighted Results: ', results)\n",
    "print('K-fold Cross Validation f1_weighted Results Mean: ', results.mean())"
   ]
  },
  {
   "cell_type": "code",
   "execution_count": 598,
   "id": "d7df230d",
   "metadata": {},
   "outputs": [
    {
     "name": "stdout",
     "output_type": "stream",
     "text": [
      "F1_weighted: 0.7375952243433259\n",
      "Accuracy: 0.7389078498293515\n"
     ]
    }
   ],
   "source": [
    "import sklearn.metrics as metrics\n",
    "\n",
    "# Check score and metrics of model\n",
    "y_pred = cv_model.predict(X_test) \n",
    "\n",
    "print(\"F1_weighted:\",metrics.f1_score(y_test, y_pred,average='weighted'))\n",
    "print(\"Accuracy:\",metrics.accuracy_score(y_test, y_pred))"
   ]
  },
  {
   "cell_type": "code",
   "execution_count": 537,
   "id": "c1e43a72",
   "metadata": {},
   "outputs": [
    {
     "name": "stdout",
     "output_type": "stream",
     "text": [
      "              precision    recall  f1-score   support\n",
      "\n",
      "           0       0.66      0.60      0.63       174\n",
      "           1       0.73      0.68      0.70       328\n",
      "           2       0.57      0.71      0.63       310\n",
      "           3       0.74      0.59      0.66       302\n",
      "           4       0.85      0.90      0.87       644\n",
      "\n",
      "   micro avg       0.74      0.74      0.74      1758\n",
      "   macro avg       0.71      0.69      0.70      1758\n",
      "weighted avg       0.74      0.74      0.74      1758\n",
      " samples avg       0.74      0.74      0.74      1758\n",
      "\n"
     ]
    }
   ],
   "source": [
    "from sklearn.metrics import classification_report \n",
    "\n",
    "# Classification Report for each multi-class\n",
    "model_report = classification_report(y_test, y_pred)\n",
    "print(model_report)"
   ]
  },
  {
   "cell_type": "code",
   "execution_count": 538,
   "id": "2d0168e6",
   "metadata": {},
   "outputs": [],
   "source": [
    "from scipy import interp\n",
    "import matplotlib.pyplot as plt\n",
    "from sklearn.metrics import roc_curve, auc\n",
    "\n",
    "# Learn to predict each class against the other\n",
    "\n",
    "y_score = cv_model.predict_proba(X_test)\n",
    "\n",
    "# Compute ROC curve and ROC area for each class\n",
    "fpr = dict()\n",
    "tpr = dict()\n",
    "roc_auc = dict()\n",
    "for i in range(5):\n",
    "    fpr[i], tpr[i], _ = roc_curve(y_test[:, i], y_score[:, i])\n",
    "    roc_auc[i] = auc(fpr[i], tpr[i])\n",
    "\n",
    "# Compute micro-average ROC curve and ROC area\n",
    "fpr[\"micro\"], tpr[\"micro\"], _ = roc_curve(y_test.ravel(), y_score.ravel())\n",
    "roc_auc[\"micro\"] = auc(fpr[\"micro\"], tpr[\"micro\"])"
   ]
  },
  {
   "cell_type": "code",
   "execution_count": 539,
   "id": "e3c3bc80",
   "metadata": {},
   "outputs": [
    {
     "data": {
      "image/png": "[encoded data removed]",
      "text/plain": [
       "<Figure size 640x480 with 1 Axes>"
      ]
     },
     "metadata": {},
     "output_type": "display_data"
    }
   ],
   "source": [
    "plt.figure()\n",
    "plt.plot(fpr[2], tpr[2], color='darkorange',\n",
    "         lw=2, label='ROC curve (area = %0.2f)' % roc_auc[2]) # Drawing Curve according to 2. class \n",
    "plt.plot([0, 1], [0, 1], color='navy', lw=lw, linestyle='--')\n",
    "plt.xlim([0.0, 1.0])\n",
    "plt.ylim([0.0, 1.05])\n",
    "plt.xlabel('False Positive Rate')\n",
    "plt.ylabel('True Positive Rate')\n",
    "plt.title('ROC')\n",
    "plt.legend(loc=\"lower right\")\n",
    "plt.show()"
   ]
  },
  {
   "cell_type": "markdown",
   "id": "787473db",
   "metadata": {},
   "source": [
    "### Gradient Boosting Classifier model"
   ]
  },
  {
   "cell_type": "code",
   "execution_count": 626,
   "id": "bd9126aa",
   "metadata": {},
   "outputs": [
    {
     "name": "stdout",
     "output_type": "stream",
     "text": [
      "Scores for each fold: [0.7559727  0.78725825 0.76734926 0.76734926 0.77575413]\n",
      "Scores mean: 0.770736718330643\n"
     ]
    }
   ],
   "source": [
    "# Use KFold on model to check crossvalidation score for each model\n",
    "from sklearn.ensemble import GradientBoostingClassifier\n",
    "\n",
    "score = cross_val_score(GradientBoostingClassifier(), X, np.argmax(y,axis=1), cv= kfold, scoring='accuracy')\n",
    "print(f'Scores for each fold: {score}')\n",
    "print(f'Scores mean: {np.mean(score)}')"
   ]
  },
  {
   "cell_type": "markdown",
   "id": "53406a75",
   "metadata": {},
   "source": [
    "### Logistic Regression model"
   ]
  },
  {
   "cell_type": "code",
   "execution_count": 627,
   "id": "71e4b546",
   "metadata": {},
   "outputs": [
    {
     "name": "stdout",
     "output_type": "stream",
     "text": [
      "Scores for each fold: [0.60182025 0.61660978 0.61547213 0.60352673 0.59817871]\n",
      "Scores mean: 0.6071215220379654\n"
     ]
    }
   ],
   "source": [
    "from sklearn.linear_model import LogisticRegression\n",
    "\n",
    "score = cross_val_score(LogisticRegression(multi_class='multinomial', solver='newton-cg'), X, np.argmax(y,axis=1), cv=kfold, scoring=\"accuracy\")\n",
    "print(f'Scores for each fold: {score}')\n",
    "print(f'Scores mean: {np.mean(score)}')"
   ]
  },
  {
   "cell_type": "markdown",
   "id": "75798bcc",
   "metadata": {},
   "source": [
    "### Select Gradient Boosting Classifier model from crossvalidation score to perform gridsearchcv on params"
   ]
  },
  {
   "cell_type": "code",
   "execution_count": 570,
   "id": "2ba95e22",
   "metadata": {},
   "outputs": [],
   "source": [
    "param_grid_gradient = {\n",
    "    'n_estimators': [100,200,400], \n",
    "    'learning_rate': [0.01,0.1,1.0],\n",
    "    'max_depth': [1,2]\n",
    "}\n",
    "\n",
    "grid_gradient = GridSearchCV(estimator=GradientBoostingClassifier(random_state=SEED), n_jobs=-1, verbose=0, cv=5, param_grid=param_grid_gradient)\n",
    "grid_cv_gradient = grid_gradient.fit(X_train, np.argmax(y_train, axis=1))"
   ]
  },
  {
   "cell_type": "code",
   "execution_count": 571,
   "id": "3ec7109f",
   "metadata": {},
   "outputs": [
    {
     "name": "stdout",
     "output_type": "stream",
     "text": [
      "Best: 0.758218 Params: {'learning_rate': 0.1, 'max_depth': 2, 'n_estimators': 400}\n"
     ]
    }
   ],
   "source": [
    "print(\"Best: %f Params: %s\" % (grid_cv_gradient.best_score_, grid_cv_gradient.best_params_))\n",
    "#BestParams: {'learning_rate': 0.1, 'max_depth': 2, 'n_estimators': 400}"
   ]
  },
  {
   "cell_type": "code",
   "execution_count": 573,
   "id": "420c11a2",
   "metadata": {},
   "outputs": [],
   "source": [
    "# Using kfold crossvalidation with best params\n",
    "cv_model_gradient = grid_cv_gradient.best_estimator_\n",
    "kfold = KFold(n_splits=5, shuffle=True)\n",
    "results_gradient = cross_val_score(cv_model_gradient, X_train, np.argmax(y_train,axis=1), cv=kfold, scoring='accuracy')"
   ]
  },
  {
   "cell_type": "code",
   "execution_count": 574,
   "id": "0d2a01fd",
   "metadata": {},
   "outputs": [
    {
     "name": "stdout",
     "output_type": "stream",
     "text": [
      "K-fold Cross Validation accuracy (Gradient) Results:  [0.77683014 0.76529161 0.75817923 0.78307255 0.74537696]\n",
      "K-fold Cross Validation accuracy (Gradient) Results Mean:  0.7657500952866231\n"
     ]
    }
   ],
   "source": [
    "print('K-fold Cross Validation accuracy (Gradient) Results: ', results_gradient)\n",
    "print('K-fold Cross Validation accuracy (Gradient) Results Mean: ', results_gradient.mean())"
   ]
  },
  {
   "cell_type": "code",
   "execution_count": 578,
   "id": "28d78149",
   "metadata": {},
   "outputs": [
    {
     "name": "stdout",
     "output_type": "stream",
     "text": [
      "F1_weighted: 0.7761166022393359\n",
      "Accuracy: 0.7764505119453925\n"
     ]
    }
   ],
   "source": [
    "import sklearn.metrics as metrics\n",
    "\n",
    "# Check score and metrics of model\n",
    "y_pred_gradient = cv_model_gradient.predict(X_test) \n",
    "\n",
    "print(\"F1_weighted:\",metrics.f1_score(np.argmax(y_test,axis=1), y_pred_gradient,average='weighted'))\n",
    "print(\"Accuracy:\",metrics.accuracy_score(np.argmax(y_test,axis=1), y_pred_gradient))"
   ]
  },
  {
   "cell_type": "code",
   "execution_count": 579,
   "id": "a7c446f8",
   "metadata": {},
   "outputs": [
    {
     "name": "stdout",
     "output_type": "stream",
     "text": [
      "              precision    recall  f1-score   support\n",
      "\n",
      "           0       0.78      0.59      0.67       174\n",
      "           1       0.75      0.75      0.75       328\n",
      "           2       0.63      0.72      0.67       310\n",
      "           3       0.72      0.70      0.71       302\n",
      "           4       0.90      0.91      0.90       644\n",
      "\n",
      "    accuracy                           0.78      1758\n",
      "   macro avg       0.75      0.73      0.74      1758\n",
      "weighted avg       0.78      0.78      0.78      1758\n",
      "\n"
     ]
    }
   ],
   "source": [
    "from sklearn.metrics import classification_report \n",
    "\n",
    "# Classification Report for each multi-class\n",
    "model_report_gra = classification_report(np.argmax(y_test,axis=1), y_pred_gradient)\n",
    "print(model_report_gra)"
   ]
  },
  {
   "cell_type": "code",
   "execution_count": 629,
   "id": "7a47be6f",
   "metadata": {},
   "outputs": [
    {
     "data": {
      "image/png": "[encoded data removed]",
      "text/plain": [
       "<Figure size 640x480 with 1 Axes>"
      ]
     },
     "metadata": {},
     "output_type": "display_data"
    }
   ],
   "source": [
    "# Learn to predict each class against the other\n",
    "\n",
    "y_score = cv_model_gradient.predict_proba(X_test)\n",
    "\n",
    "# Compute ROC curve and ROC area for each class\n",
    "fpr = dict()\n",
    "tpr = dict()\n",
    "roc_auc = dict()\n",
    "for i in range(5):\n",
    "    fpr[i], tpr[i], _ = roc_curve(y_test[:, i], y_score[:, i])\n",
    "    roc_auc[i] = auc(fpr[i], tpr[i])\n",
    "\n",
    "# Compute micro-average ROC curve and ROC area\n",
    "fpr[\"micro\"], tpr[\"micro\"], _ = roc_curve(y_test.ravel(), y_score.ravel())\n",
    "roc_auc[\"micro\"] = auc(fpr[\"micro\"], tpr[\"micro\"])\n",
    "\n",
    "plt.figure()\n",
    "plt.plot(fpr[2], tpr[2], color='darkorange',\n",
    "         lw=2, label='ROC curve (area = %0.2f)' % roc_auc[2]) # Drawing Curve according to 2. class \n",
    "plt.plot([0, 1], [0, 1], color='navy', lw=lw, linestyle='--')\n",
    "plt.xlim([0.0, 1.0])\n",
    "plt.ylim([0.0, 1.05])\n",
    "plt.xlabel('False Positive Rate')\n",
    "plt.ylabel('True Positive Rate')\n",
    "plt.title('ROC')\n",
    "plt.legend(loc=\"lower right\")\n",
    "plt.show()"
   ]
  },
  {
   "cell_type": "markdown",
   "id": "c21f85ac",
   "metadata": {},
   "source": [
    "### Make prediction function that take features (calrories, fat, etc.) to predict any food with nutrients label"
   ]
  },
  {
   "cell_type": "code",
   "execution_count": 622,
   "id": "43351297",
   "metadata": {},
   "outputs": [],
   "source": [
    "def predict_NutriRank(model, nutrients):\n",
    "    \n",
    "    predictions = model.predict(nutrients)\n",
    "    \n",
    "    if len(predictions.shape) == 2:\n",
    "        predictions = np.argmax(predictions, axis=1)\n",
    "        \n",
    "    rank_list = np.zeros_like(predictions).astype(str)\n",
    "    rank = ''\n",
    "    \n",
    "    for i,value in enumerate(predictions):\n",
    "        \n",
    "        if value == 0: rank = 'Lowest'\n",
    "        if value == 1: rank = 'Low'\n",
    "        if value == 2: rank = 'Medium'\n",
    "        if value == 3: rank = 'High'\n",
    "        if value == 4: rank = 'Highest'\n",
    "            \n",
    "        rank_list[i] = rank\n",
    "        \n",
    "    return rank_list"
   ]
  },
  {
   "cell_type": "code",
   "execution_count": 623,
   "id": "5442aa79",
   "metadata": {},
   "outputs": [
    {
     "name": "stdout",
     "output_type": "stream",
     "text": [
      "Deep Learning Model prediction: ['Medium' 'Medium' 'Highest' 'Medium' 'Low']\n",
      "Gradient Boosting Model prediction: ['Medium' 'Medium' 'Highest' 'Medium' 'Low']\n"
     ]
    },
    {
     "name": "stderr",
     "output_type": "stream",
     "text": [
      "C:\\Users\\Lenovo\\anaconda3\\lib\\site-packages\\sklearn\\base.py:450: UserWarning: X does not have valid feature names, but GradientBoostingClassifier was fitted with feature names\n",
      "  warnings.warn(\n"
     ]
    }
   ],
   "source": [
    "# Serving Size: 100g Input by Order\n",
    "# 'calories','total_fat','protein','carbohydrate','sugars','fiber','saturated_fat','sodium','potassium',\n",
    "\n",
    "Doritos = ['497', '24.9', '6.1', '59.3', '6.1', '5.6', '3.0', '135', '0']\n",
    "Walnuts = ['712', '69.1', '15.51', '3.7', '3.0', '6.8', '6.8', '2', '0']\n",
    "Salsa = ['38', '0.2', '1.5', '7.1', '5.1', '0.9', '0.1', '127', '0']\n",
    "PizzaC = ['276', '11.74', '12.33', '30.33', '3.56', '1.9', '5.005', '127', '0']\n",
    "CCake = ['321', '22.5', '5.5', '25.5', '0', '0.4', '9.921', '52', '90']\n",
    "\n",
    "input_foods = np.array([Doritos,Walnuts,Salsa,PizzaC,CCake]).astype(float)\n",
    "\n",
    "print(\"Deep Learning Model prediction:\", predict_NutriRank(cv_model,input_foods))\n",
    "\n",
    "print(\"Gradient Boosting Model prediction:\", predict_5NutriRank(cv_model_gradient, input_foods))"
   ]
  },
  {
   "cell_type": "markdown",
   "id": "e43d29ca",
   "metadata": {},
   "source": [
    "#### The deep learning and gradient boosting model have a similar predictions as the score in each fields of both models perform very close."
   ]
  },
  {
   "cell_type": "code",
   "execution_count": null,
   "id": "729f9aeb",
   "metadata": {},
   "outputs": [],
   "source": []
  },
  {
   "cell_type": "markdown",
   "id": "48f135d8",
   "metadata": {},
   "source": [
    "### Test using K-mean cluster classification without using NutriRank,  just datasets to see how algorithm interpret data points"
   ]
  },
  {
   "cell_type": "code",
   "execution_count": 2288,
   "id": "95df3594",
   "metadata": {},
   "outputs": [
    {
     "data": {
      "text/html": [
       "<div>\n",
       "<style scoped>\n",
       "    .dataframe tbody tr th:only-of-type {\n",
       "        vertical-align: middle;\n",
       "    }\n",
       "\n",
       "    .dataframe tbody tr th {\n",
       "        vertical-align: top;\n",
       "    }\n",
       "\n",
       "    .dataframe thead th {\n",
       "        text-align: right;\n",
       "    }\n",
       "</style>\n",
       "<table border=\"1\" class=\"dataframe\">\n",
       "  <thead>\n",
       "    <tr style=\"text-align: right;\">\n",
       "      <th></th>\n",
       "      <th>name</th>\n",
       "      <th>calories</th>\n",
       "      <th>total_fat</th>\n",
       "      <th>protein</th>\n",
       "      <th>carbohydrate</th>\n",
       "      <th>sodium</th>\n",
       "      <th>potassium</th>\n",
       "    </tr>\n",
       "  </thead>\n",
       "  <tbody>\n",
       "    <tr>\n",
       "      <th>0</th>\n",
       "      <td>Cornstarch</td>\n",
       "      <td>381</td>\n",
       "      <td>0.1</td>\n",
       "      <td>0.26</td>\n",
       "      <td>91.27</td>\n",
       "      <td>9.0</td>\n",
       "      <td>3.0</td>\n",
       "    </tr>\n",
       "    <tr>\n",
       "      <th>1</th>\n",
       "      <td>Nuts, pecans</td>\n",
       "      <td>691</td>\n",
       "      <td>72.0</td>\n",
       "      <td>9.17</td>\n",
       "      <td>13.86</td>\n",
       "      <td>0.0</td>\n",
       "      <td>410.0</td>\n",
       "    </tr>\n",
       "    <tr>\n",
       "      <th>2</th>\n",
       "      <td>Eggplant, raw</td>\n",
       "      <td>25</td>\n",
       "      <td>0.2</td>\n",
       "      <td>0.98</td>\n",
       "      <td>5.88</td>\n",
       "      <td>2.0</td>\n",
       "      <td>229.0</td>\n",
       "    </tr>\n",
       "    <tr>\n",
       "      <th>3</th>\n",
       "      <td>Teff, uncooked</td>\n",
       "      <td>367</td>\n",
       "      <td>2.4</td>\n",
       "      <td>13.30</td>\n",
       "      <td>73.13</td>\n",
       "      <td>12.0</td>\n",
       "      <td>427.0</td>\n",
       "    </tr>\n",
       "    <tr>\n",
       "      <th>4</th>\n",
       "      <td>Sherbet, orange</td>\n",
       "      <td>144</td>\n",
       "      <td>2.0</td>\n",
       "      <td>1.10</td>\n",
       "      <td>30.40</td>\n",
       "      <td>46.0</td>\n",
       "      <td>96.0</td>\n",
       "    </tr>\n",
       "    <tr>\n",
       "      <th>...</th>\n",
       "      <td>...</td>\n",
       "      <td>...</td>\n",
       "      <td>...</td>\n",
       "      <td>...</td>\n",
       "      <td>...</td>\n",
       "      <td>...</td>\n",
       "      <td>...</td>\n",
       "    </tr>\n",
       "    <tr>\n",
       "      <th>8784</th>\n",
       "      <td>Beef, raw, all grades, trimmed to 0\" fat, sepa...</td>\n",
       "      <td>125</td>\n",
       "      <td>3.5</td>\n",
       "      <td>23.45</td>\n",
       "      <td>0.00</td>\n",
       "      <td>54.0</td>\n",
       "      <td>311.0</td>\n",
       "    </tr>\n",
       "    <tr>\n",
       "      <th>8785</th>\n",
       "      <td>Lamb, cooked, separable lean only, composite o...</td>\n",
       "      <td>206</td>\n",
       "      <td>8.9</td>\n",
       "      <td>29.59</td>\n",
       "      <td>0.00</td>\n",
       "      <td>50.0</td>\n",
       "      <td>188.0</td>\n",
       "    </tr>\n",
       "    <tr>\n",
       "      <th>8786</th>\n",
       "      <td>Lamb, raw, separable lean and fat, composite o...</td>\n",
       "      <td>277</td>\n",
       "      <td>23.0</td>\n",
       "      <td>16.74</td>\n",
       "      <td>0.00</td>\n",
       "      <td>39.0</td>\n",
       "      <td>136.0</td>\n",
       "    </tr>\n",
       "    <tr>\n",
       "      <th>8787</th>\n",
       "      <td>Beef, raw, all grades, trimmed to 0\" fat, sepa...</td>\n",
       "      <td>121</td>\n",
       "      <td>3.0</td>\n",
       "      <td>23.37</td>\n",
       "      <td>0.00</td>\n",
       "      <td>53.0</td>\n",
       "      <td>319.0</td>\n",
       "    </tr>\n",
       "    <tr>\n",
       "      <th>8788</th>\n",
       "      <td>Beef, raw, all grades, trimmed to 0\" fat, sepa...</td>\n",
       "      <td>121</td>\n",
       "      <td>3.0</td>\n",
       "      <td>23.37</td>\n",
       "      <td>0.00</td>\n",
       "      <td>53.0</td>\n",
       "      <td>319.0</td>\n",
       "    </tr>\n",
       "  </tbody>\n",
       "</table>\n",
       "<p>8789 rows × 7 columns</p>\n",
       "</div>"
      ],
      "text/plain": [
       "                                                   name  calories  total_fat  \\\n",
       "0                                            Cornstarch       381        0.1   \n",
       "1                                          Nuts, pecans       691       72.0   \n",
       "2                                         Eggplant, raw        25        0.2   \n",
       "3                                        Teff, uncooked       367        2.4   \n",
       "4                                       Sherbet, orange       144        2.0   \n",
       "...                                                 ...       ...        ...   \n",
       "8784  Beef, raw, all grades, trimmed to 0\" fat, sepa...       125        3.5   \n",
       "8785  Lamb, cooked, separable lean only, composite o...       206        8.9   \n",
       "8786  Lamb, raw, separable lean and fat, composite o...       277       23.0   \n",
       "8787  Beef, raw, all grades, trimmed to 0\" fat, sepa...       121        3.0   \n",
       "8788  Beef, raw, all grades, trimmed to 0\" fat, sepa...       121        3.0   \n",
       "\n",
       "      protein  carbohydrate  sodium  potassium  \n",
       "0        0.26         91.27     9.0        3.0  \n",
       "1        9.17         13.86     0.0      410.0  \n",
       "2        0.98          5.88     2.0      229.0  \n",
       "3       13.30         73.13    12.0      427.0  \n",
       "4        1.10         30.40    46.0       96.0  \n",
       "...       ...           ...     ...        ...  \n",
       "8784    23.45          0.00    54.0      311.0  \n",
       "8785    29.59          0.00    50.0      188.0  \n",
       "8786    16.74          0.00    39.0      136.0  \n",
       "8787    23.37          0.00    53.0      319.0  \n",
       "8788    23.37          0.00    53.0      319.0  \n",
       "\n",
       "[8789 rows x 7 columns]"
      ]
     },
     "execution_count": 2288,
     "metadata": {},
     "output_type": "execute_result"
    }
   ],
   "source": [
    "test_cluster_df = nutrition_df[['name','calories','total_fat','protein','carbohydrate','sodium','potassium']]\n",
    "test_cluster_df"
   ]
  },
  {
   "cell_type": "markdown",
   "id": "41ebcc17",
   "metadata": {},
   "source": [
    "### PCA for plotting data"
   ]
  },
  {
   "cell_type": "code",
   "execution_count": 2290,
   "id": "7491f430",
   "metadata": {},
   "outputs": [
    {
     "data": {
      "text/plain": [
       "array([[ 0.67500535, -0.27904764],\n",
       "       [ 0.26401217,  0.74451224],\n",
       "       [-0.24954032, -0.155337  ],\n",
       "       [ 0.50030761, -0.16983385],\n",
       "       [ 0.02701322, -0.16697077]])"
      ]
     },
     "execution_count": 2290,
     "metadata": {},
     "output_type": "execute_result"
    }
   ],
   "source": [
    "\n",
    "from sklearn.decomposition import PCA\n",
    "\n",
    "features = test_cluster_df[test_cluster_df.columns[1:]]\n",
    "\n",
    "# Normalize the numeric features so they're on the same scale\n",
    "scaled_features = MinMaxScaler().fit_transform(features)\n",
    "\n",
    "# Get two principal components\n",
    "pca = PCA(n_components=2).fit(scaled_features)\n",
    "features_2d = pca.transform(scaled_features)\n",
    "features_2d[0:5]"
   ]
  },
  {
   "cell_type": "code",
   "execution_count": 2291,
   "id": "370b06e0",
   "metadata": {},
   "outputs": [
    {
     "data": {
      "image/png": "[encoded data removed]",
      "text/plain": [
       "<Figure size 640x480 with 1 Axes>"
      ]
     },
     "metadata": {},
     "output_type": "display_data"
    }
   ],
   "source": [
    "plt.scatter(features_2d[:,0],features_2d[:,1])\n",
    "plt.xlabel('Dimension 1')\n",
    "plt.ylabel('Dimension 2')\n",
    "plt.title('Data')\n",
    "plt.show()"
   ]
  },
  {
   "cell_type": "markdown",
   "id": "897327bf",
   "metadata": {},
   "source": [
    "### Standardize the data"
   ]
  },
  {
   "cell_type": "code",
   "execution_count": 2293,
   "id": "7d23d7d9",
   "metadata": {},
   "outputs": [],
   "source": [
    "scale= StandardScaler()\n",
    " \n",
    "# standardization of dependent variables\n",
    "scaled_data = scale.fit_transform(features) \n",
    "#print(scaled_data)"
   ]
  },
  {
   "cell_type": "markdown",
   "id": "24084715",
   "metadata": {},
   "source": [
    "### Elbow method"
   ]
  },
  {
   "cell_type": "code",
   "execution_count": 2295,
   "id": "ffb860b5",
   "metadata": {},
   "outputs": [
    {
     "data": {
      "image/png": "[encoded data removed]",
      "text/plain": [
       "<Figure size 640x480 with 1 Axes>"
      ]
     },
     "metadata": {},
     "output_type": "display_data"
    }
   ],
   "source": [
    "from sklearn.cluster import KMeans\n",
    "%matplotlib inline\n",
    "\n",
    "# Create 15 models with 1 to 15 clusters\n",
    "wcss = []\n",
    "for i in range(1, 15):\n",
    "    kmeans = KMeans(n_clusters = i)\n",
    "    # Fit the data points\n",
    "    kmeans.fit(scaled_features)\n",
    "    # Get the WCSS (inertia) value\n",
    "    wcss.append(kmeans.inertia_)\n",
    "    \n",
    "#Plot the WCSS values onto a line graph\n",
    "plt.plot(range(1, 15), wcss)\n",
    "plt.title('WCSS by Clusters')\n",
    "plt.xlabel('Number of clusters')\n",
    "plt.ylabel('WCSS')\n",
    "plt.show()"
   ]
  },
  {
   "cell_type": "markdown",
   "id": "1cdafdf3",
   "metadata": {},
   "source": [
    "### K-mean for 4 clusters and plotting"
   ]
  },
  {
   "cell_type": "code",
   "execution_count": 2296,
   "id": "4770d3b0",
   "metadata": {},
   "outputs": [
    {
     "data": {
      "text/plain": [
       "array([1, 2, 3, ..., 0, 0, 0])"
      ]
     },
     "execution_count": 2296,
     "metadata": {},
     "output_type": "execute_result"
    }
   ],
   "source": [
    "model = KMeans(n_clusters=4, init='k-means++', n_init=500, max_iter=1500)\n",
    "# Fit to the data and predict the cluster assignments for each data point\n",
    "km_clusters = model.fit_predict(scaled_features)\n",
    "# View the cluster assignments\n",
    "km_clusters"
   ]
  },
  {
   "cell_type": "code",
   "execution_count": 2297,
   "id": "9dd6a5ba",
   "metadata": {},
   "outputs": [
    {
     "data": {
      "image/png": "[encoded data removed]",
      "text/plain": [
       "<Figure size 640x480 with 1 Axes>"
      ]
     },
     "metadata": {},
     "output_type": "display_data"
    }
   ],
   "source": [
    "def plot_clusters(samples, clusters):\n",
    "    col_dic = {0:'blue',1:'green',2:'orange', 3:'red'}\n",
    "    mrk_dic = {0:'*',1:'x',2:'+', 3:'.'}\n",
    "    colors = [col_dic[x] for x in clusters]\n",
    "    markers = [mrk_dic[x] for x in clusters]\n",
    "    for sample in range(len(clusters)):\n",
    "        plt.scatter(samples[sample][0], samples[sample][1], color = colors[sample], marker=markers[sample], s=100)\n",
    "    plt.xlabel('Dimension 1')\n",
    "    plt.ylabel('Dimension 2')\n",
    "    plt.title('Assignments')\n",
    "    plt.show()\n",
    "\n",
    "plot_clusters(features_2d, km_clusters)"
   ]
  },
  {
   "cell_type": "markdown",
   "id": "911ce4e8",
   "metadata": {},
   "source": [
    "### Assign cluster for investigate group data insight"
   ]
  },
  {
   "cell_type": "code",
   "execution_count": 2298,
   "id": "7f8f9bfc",
   "metadata": {
    "scrolled": true
   },
   "outputs": [
    {
     "name": "stderr",
     "output_type": "stream",
     "text": [
      "C:\\Users\\Lenovo\\AppData\\Local\\Temp\\ipykernel_20064\\472222658.py:1: SettingWithCopyWarning: \n",
      "A value is trying to be set on a copy of a slice from a DataFrame.\n",
      "Try using .loc[row_indexer,col_indexer] = value instead\n",
      "\n",
      "See the caveats in the documentation: https://pandas.pydata.org/pandas-docs/stable/user_guide/indexing.html#returning-a-view-versus-a-copy\n",
      "  test_cluster_df['Cluster-group'] = km_clusters.astype(str)\n"
     ]
    }
   ],
   "source": [
    "test_cluster_df['Cluster-group'] = km_clusters.astype(str)"
   ]
  },
  {
   "cell_type": "code",
   "execution_count": 2299,
   "id": "d9b47a31",
   "metadata": {},
   "outputs": [
    {
     "name": "stderr",
     "output_type": "stream",
     "text": [
      "C:\\Users\\Lenovo\\anaconda3\\lib\\site-packages\\numpy\\core\\fromnumeric.py:3438: FutureWarning: Dropping of nuisance columns in DataFrame reductions (with 'numeric_only=None') is deprecated; in a future version this will raise TypeError.  Select only valid columns before calling the reduction.\n",
      "  return mean(axis=axis, dtype=dtype, out=out, **kwargs)\n"
     ]
    },
    {
     "data": {
      "text/html": [
       "<div>\n",
       "<style scoped>\n",
       "    .dataframe tbody tr th:only-of-type {\n",
       "        vertical-align: middle;\n",
       "    }\n",
       "\n",
       "    .dataframe tbody tr th {\n",
       "        vertical-align: top;\n",
       "    }\n",
       "\n",
       "    .dataframe thead th {\n",
       "        text-align: right;\n",
       "    }\n",
       "</style>\n",
       "<table border=\"1\" class=\"dataframe\">\n",
       "  <thead>\n",
       "    <tr style=\"text-align: right;\">\n",
       "      <th></th>\n",
       "      <th>calories</th>\n",
       "      <th>total_fat</th>\n",
       "      <th>protein</th>\n",
       "      <th>carbohydrate</th>\n",
       "      <th>sodium</th>\n",
       "      <th>potassium</th>\n",
       "    </tr>\n",
       "  </thead>\n",
       "  <tbody>\n",
       "    <tr>\n",
       "      <th>0</th>\n",
       "      <td>211.696104</td>\n",
       "      <td>11.821558</td>\n",
       "      <td>22.718510</td>\n",
       "      <td>2.928393</td>\n",
       "      <td>301.062987</td>\n",
       "      <td>295.118831</td>\n",
       "    </tr>\n",
       "    <tr>\n",
       "      <th>1</th>\n",
       "      <td>389.396601</td>\n",
       "      <td>11.344854</td>\n",
       "      <td>7.896596</td>\n",
       "      <td>66.584207</td>\n",
       "      <td>423.127479</td>\n",
       "      <td>353.674693</td>\n",
       "    </tr>\n",
       "    <tr>\n",
       "      <th>2</th>\n",
       "      <td>688.245810</td>\n",
       "      <td>71.466480</td>\n",
       "      <td>8.532709</td>\n",
       "      <td>7.386732</td>\n",
       "      <td>214.150838</td>\n",
       "      <td>236.581006</td>\n",
       "    </tr>\n",
       "    <tr>\n",
       "      <th>3</th>\n",
       "      <td>82.168574</td>\n",
       "      <td>2.091061</td>\n",
       "      <td>3.081939</td>\n",
       "      <td>12.910690</td>\n",
       "      <td>245.103619</td>\n",
       "      <td>182.043922</td>\n",
       "    </tr>\n",
       "  </tbody>\n",
       "</table>\n",
       "</div>"
      ],
      "text/plain": [
       "     calories  total_fat    protein  carbohydrate      sodium   potassium\n",
       "0  211.696104  11.821558  22.718510      2.928393  301.062987  295.118831\n",
       "1  389.396601  11.344854   7.896596     66.584207  423.127479  353.674693\n",
       "2  688.245810  71.466480   8.532709      7.386732  214.150838  236.581006\n",
       "3   82.168574   2.091061   3.081939     12.910690  245.103619  182.043922"
      ]
     },
     "execution_count": 2299,
     "metadata": {},
     "output_type": "execute_result"
    }
   ],
   "source": [
    "summary_nutri = []\n",
    "\n",
    "for i in range(4):\n",
    "    summary_nutri.append(np.mean(test_cluster_df[test_cluster_df['Cluster-group'] == str(i)], axis=0)[:-1])\n",
    "    \n",
    "summary_nutri_df = pd.DataFrame(np.asarray(summary_nutri), columns = test_cluster_df.columns[1:-1])\n",
    "summary_nutri_df"
   ]
  },
  {
   "cell_type": "markdown",
   "id": "ed74de76",
   "metadata": {},
   "source": [
    "#### The descriptive statistic of each cluster group can be describe below\n",
    "In serving size of 100g can explain nutrition\n",
    "\n",
    "Cluster 0: Consist of high protein food\n",
    "\n",
    "Cluster 1: Consist of high carbohydrate food\n",
    "\n",
    "Cluster 2: Consist of high calories food mainly from fat\n",
    "\n",
    "Cluster 3: Consist of low calories food"
   ]
  },
  {
   "cell_type": "markdown",
   "id": "b67fe746",
   "metadata": {},
   "source": [
    "### Check the dataset information by take random sample for each cluster group"
   ]
  },
  {
   "cell_type": "code",
   "execution_count": 2327,
   "id": "e224aba9",
   "metadata": {},
   "outputs": [],
   "source": [
    "import random\n",
    "\n",
    "sample = []\n",
    "for i in range(4):\n",
    "    sample.append(np.random.choice(test_cluster_df[test_cluster_df['Cluster-group'] == str(i)].index, size=6, replace=False))\n",
    "\n",
    "sample_array = np.asarray(sample)"
   ]
  },
  {
   "cell_type": "code",
   "execution_count": 2328,
   "id": "562aa10f",
   "metadata": {
    "scrolled": false
   },
   "outputs": [
    {
     "data": {
      "text/html": [
       "<div>\n",
       "<style scoped>\n",
       "    .dataframe tbody tr th:only-of-type {\n",
       "        vertical-align: middle;\n",
       "    }\n",
       "\n",
       "    .dataframe tbody tr th {\n",
       "        vertical-align: top;\n",
       "    }\n",
       "\n",
       "    .dataframe thead th {\n",
       "        text-align: right;\n",
       "    }\n",
       "</style>\n",
       "<table border=\"1\" class=\"dataframe\">\n",
       "  <thead>\n",
       "    <tr style=\"text-align: right;\">\n",
       "      <th></th>\n",
       "      <th>name</th>\n",
       "      <th>calories</th>\n",
       "      <th>total_fat</th>\n",
       "      <th>protein</th>\n",
       "      <th>carbohydrate</th>\n",
       "      <th>sodium</th>\n",
       "      <th>potassium</th>\n",
       "      <th>Cluster-group</th>\n",
       "    </tr>\n",
       "  </thead>\n",
       "  <tbody>\n",
       "    <tr>\n",
       "      <th>4074</th>\n",
       "      <td>WORTHINGTON Prosage Roll, unprepared, frozen</td>\n",
       "      <td>261</td>\n",
       "      <td>18.0</td>\n",
       "      <td>19.60</td>\n",
       "      <td>6.0</td>\n",
       "      <td>667.0</td>\n",
       "      <td>139.0</td>\n",
       "      <td>0</td>\n",
       "    </tr>\n",
       "    <tr>\n",
       "      <th>1855</th>\n",
       "      <td>Squab, raw, meat only, (pigeon)</td>\n",
       "      <td>142</td>\n",
       "      <td>7.5</td>\n",
       "      <td>17.50</td>\n",
       "      <td>0.0</td>\n",
       "      <td>51.0</td>\n",
       "      <td>237.0</td>\n",
       "      <td>0</td>\n",
       "    </tr>\n",
       "    <tr>\n",
       "      <th>6596</th>\n",
       "      <td>Chicken, raw, with added solution, meat only, ...</td>\n",
       "      <td>106</td>\n",
       "      <td>3.3</td>\n",
       "      <td>19.19</td>\n",
       "      <td>0.0</td>\n",
       "      <td>152.0</td>\n",
       "      <td>192.0</td>\n",
       "      <td>0</td>\n",
       "    </tr>\n",
       "    <tr>\n",
       "      <th>204</th>\n",
       "      <td>Fish, raw, swordfish</td>\n",
       "      <td>144</td>\n",
       "      <td>6.7</td>\n",
       "      <td>19.66</td>\n",
       "      <td>0.0</td>\n",
       "      <td>81.0</td>\n",
       "      <td>418.0</td>\n",
       "      <td>0</td>\n",
       "    </tr>\n",
       "    <tr>\n",
       "      <th>6993</th>\n",
       "      <td>Beef, raw, choice, trimmed to 1/8\" fat, separa...</td>\n",
       "      <td>199</td>\n",
       "      <td>13.0</td>\n",
       "      <td>19.48</td>\n",
       "      <td>0.0</td>\n",
       "      <td>58.0</td>\n",
       "      <td>326.0</td>\n",
       "      <td>0</td>\n",
       "    </tr>\n",
       "    <tr>\n",
       "      <th>3563</th>\n",
       "      <td>Veal, roasted, cooked, separable lean only, loin</td>\n",
       "      <td>175</td>\n",
       "      <td>6.9</td>\n",
       "      <td>26.32</td>\n",
       "      <td>0.0</td>\n",
       "      <td>96.0</td>\n",
       "      <td>340.0</td>\n",
       "      <td>0</td>\n",
       "    </tr>\n",
       "  </tbody>\n",
       "</table>\n",
       "</div>"
      ],
      "text/plain": [
       "                                                   name  calories  total_fat  \\\n",
       "4074       WORTHINGTON Prosage Roll, unprepared, frozen       261       18.0   \n",
       "1855                    Squab, raw, meat only, (pigeon)       142        7.5   \n",
       "6596  Chicken, raw, with added solution, meat only, ...       106        3.3   \n",
       "204                                Fish, raw, swordfish       144        6.7   \n",
       "6993  Beef, raw, choice, trimmed to 1/8\" fat, separa...       199       13.0   \n",
       "3563   Veal, roasted, cooked, separable lean only, loin       175        6.9   \n",
       "\n",
       "      protein  carbohydrate  sodium  potassium Cluster-group  \n",
       "4074    19.60           6.0   667.0      139.0             0  \n",
       "1855    17.50           0.0    51.0      237.0             0  \n",
       "6596    19.19           0.0   152.0      192.0             0  \n",
       "204     19.66           0.0    81.0      418.0             0  \n",
       "6993    19.48           0.0    58.0      326.0             0  \n",
       "3563    26.32           0.0    96.0      340.0             0  "
      ]
     },
     "execution_count": 2328,
     "metadata": {},
     "output_type": "execute_result"
    }
   ],
   "source": [
    "test_cluster_df.loc[sample_array[0]]"
   ]
  },
  {
   "cell_type": "code",
   "execution_count": 2329,
   "id": "287098e8",
   "metadata": {},
   "outputs": [
    {
     "data": {
      "text/html": [
       "<div>\n",
       "<style scoped>\n",
       "    .dataframe tbody tr th:only-of-type {\n",
       "        vertical-align: middle;\n",
       "    }\n",
       "\n",
       "    .dataframe tbody tr th {\n",
       "        vertical-align: top;\n",
       "    }\n",
       "\n",
       "    .dataframe thead th {\n",
       "        text-align: right;\n",
       "    }\n",
       "</style>\n",
       "<table border=\"1\" class=\"dataframe\">\n",
       "  <thead>\n",
       "    <tr style=\"text-align: right;\">\n",
       "      <th></th>\n",
       "      <th>name</th>\n",
       "      <th>calories</th>\n",
       "      <th>total_fat</th>\n",
       "      <th>protein</th>\n",
       "      <th>carbohydrate</th>\n",
       "      <th>sodium</th>\n",
       "      <th>potassium</th>\n",
       "      <th>Cluster-group</th>\n",
       "    </tr>\n",
       "  </thead>\n",
       "  <tbody>\n",
       "    <tr>\n",
       "      <th>4116</th>\n",
       "      <td>Tomato products, with herbs and cheese, sauce,...</td>\n",
       "      <td>59</td>\n",
       "      <td>1.9</td>\n",
       "      <td>2.13</td>\n",
       "      <td>10.24</td>\n",
       "      <td>543.0</td>\n",
       "      <td>356.0</td>\n",
       "      <td>3</td>\n",
       "    </tr>\n",
       "    <tr>\n",
       "      <th>174</th>\n",
       "      <td>Pears, bartlett, raw</td>\n",
       "      <td>63</td>\n",
       "      <td>0.2</td>\n",
       "      <td>0.39</td>\n",
       "      <td>15.01</td>\n",
       "      <td>1.0</td>\n",
       "      <td>101.0</td>\n",
       "      <td>3</td>\n",
       "    </tr>\n",
       "    <tr>\n",
       "      <th>6947</th>\n",
       "      <td>Potatoes, oven-heated, frozen, salt added in p...</td>\n",
       "      <td>199</td>\n",
       "      <td>6.8</td>\n",
       "      <td>2.90</td>\n",
       "      <td>31.66</td>\n",
       "      <td>400.0</td>\n",
       "      <td>505.0</td>\n",
       "      <td>3</td>\n",
       "    </tr>\n",
       "    <tr>\n",
       "      <th>4034</th>\n",
       "      <td>VAN'S, Totally Original Pancakes, Gluten Free</td>\n",
       "      <td>215</td>\n",
       "      <td>4.6</td>\n",
       "      <td>3.31</td>\n",
       "      <td>40.32</td>\n",
       "      <td>331.0</td>\n",
       "      <td>127.0</td>\n",
       "      <td>3</td>\n",
       "    </tr>\n",
       "    <tr>\n",
       "      <th>7481</th>\n",
       "      <td>Split pea with ham soup, prepared with water o...</td>\n",
       "      <td>68</td>\n",
       "      <td>0.7</td>\n",
       "      <td>4.00</td>\n",
       "      <td>11.40</td>\n",
       "      <td>196.0</td>\n",
       "      <td>204.0</td>\n",
       "      <td>3</td>\n",
       "    </tr>\n",
       "    <tr>\n",
       "      <th>4140</th>\n",
       "      <td>Beans, with salt, boiled, cooked, mature seeds...</td>\n",
       "      <td>143</td>\n",
       "      <td>0.7</td>\n",
       "      <td>9.01</td>\n",
       "      <td>26.22</td>\n",
       "      <td>238.0</td>\n",
       "      <td>436.0</td>\n",
       "      <td>3</td>\n",
       "    </tr>\n",
       "  </tbody>\n",
       "</table>\n",
       "</div>"
      ],
      "text/plain": [
       "                                                   name  calories  total_fat  \\\n",
       "4116  Tomato products, with herbs and cheese, sauce,...        59        1.9   \n",
       "174                                Pears, bartlett, raw        63        0.2   \n",
       "6947  Potatoes, oven-heated, frozen, salt added in p...       199        6.8   \n",
       "4034      VAN'S, Totally Original Pancakes, Gluten Free       215        4.6   \n",
       "7481  Split pea with ham soup, prepared with water o...        68        0.7   \n",
       "4140  Beans, with salt, boiled, cooked, mature seeds...       143        0.7   \n",
       "\n",
       "      protein  carbohydrate  sodium  potassium Cluster-group  \n",
       "4116     2.13         10.24   543.0      356.0             3  \n",
       "174      0.39         15.01     1.0      101.0             3  \n",
       "6947     2.90         31.66   400.0      505.0             3  \n",
       "4034     3.31         40.32   331.0      127.0             3  \n",
       "7481     4.00         11.40   196.0      204.0             3  \n",
       "4140     9.01         26.22   238.0      436.0             3  "
      ]
     },
     "execution_count": 2329,
     "metadata": {},
     "output_type": "execute_result"
    }
   ],
   "source": [
    "#test_cluster_df.loc[sample_array[1]]\n",
    "#test_cluster_df.loc[sample_array[2]]\n",
    "test_cluster_df.loc[sample_array[3]]"
   ]
  },
  {
   "cell_type": "markdown",
   "id": "674f16e8",
   "metadata": {},
   "source": [
    "### From the cluster group, we could use this information to give advice in nutrition consumption for people who looking for low calories food, keto diet, or people who controlling their macro food consumption. While it might overlook some factors like minerals and vitamins as a result from graph show by nutrient group score."
   ]
  }
 ],
 "metadata": {
  "kernelspec": {
   "display_name": "Python 3 (ipykernel)",
   "language": "python",
   "name": "python3"
  },
  "language_info": {
   "codemirror_mode": {
    "name": "ipython",
    "version": 3
   },
   "file_extension": ".py",
   "mimetype": "text/x-python",
   "name": "python",
   "nbconvert_exporter": "python",
   "pygments_lexer": "ipython3",
   "version": "3.9.13"
  }
 },
 "nbformat": 4,
 "nbformat_minor": 5
}
